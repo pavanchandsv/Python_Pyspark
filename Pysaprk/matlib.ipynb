{
 "cells": [
  {
   "cell_type": "code",
   "execution_count": 4,
   "metadata": {},
   "outputs": [],
   "source": [
    "from pyspark.sql import SparkSession\n",
    "from pyspark.sql.functions import current_date, datediff,expr"
   ]
  },
  {
   "cell_type": "code",
   "execution_count": 5,
   "metadata": {},
   "outputs": [],
   "source": [
    "spark=SparkSession.builder.appName('matlib_prac').getOrCreate()"
   ]
  },
  {
   "cell_type": "code",
   "execution_count": 6,
   "metadata": {},
   "outputs": [
    {
     "data": {
      "text/html": [
       "\n",
       "            <div>\n",
       "                <p><b>SparkSession - in-memory</b></p>\n",
       "                \n",
       "        <div>\n",
       "            <p><b>SparkContext</b></p>\n",
       "\n",
       "            <p><a href=\"http://192.168.0.100:4040\">Spark UI</a></p>\n",
       "\n",
       "            <dl>\n",
       "              <dt>Version</dt>\n",
       "                <dd><code>v3.5.1</code></dd>\n",
       "              <dt>Master</dt>\n",
       "                <dd><code>local[*]</code></dd>\n",
       "              <dt>AppName</dt>\n",
       "                <dd><code>matlib_prac</code></dd>\n",
       "            </dl>\n",
       "        </div>\n",
       "        \n",
       "            </div>\n",
       "        "
      ],
      "text/plain": [
       "<pyspark.sql.session.SparkSession at 0x1842497fd10>"
      ]
     },
     "execution_count": 6,
     "metadata": {},
     "output_type": "execute_result"
    }
   ],
   "source": [
    "spark"
   ]
  },
  {
   "cell_type": "code",
   "execution_count": 7,
   "metadata": {},
   "outputs": [],
   "source": [
    "data=spark.read.csv('D:\\CODES\\FlatFiles\\emp_csv\\EMP.csv',header=True,inferSchema=True)\n"
   ]
  },
  {
   "cell_type": "code",
   "execution_count": 8,
   "metadata": {},
   "outputs": [],
   "source": [
    "\n",
    "data=data.withColumn('EXP', expr(\"year(current_date()) - year(hire_date)\"))\n"
   ]
  },
  {
   "cell_type": "code",
   "execution_count": 9,
   "metadata": {},
   "outputs": [
    {
     "name": "stdout",
     "output_type": "stream",
     "text": [
      "+-----------+-----------+---------+--------+------------+----------+----------+------+--------------+----------+-------------+---+\n",
      "|EMPLOYEE_ID| FIRST_NAME|LAST_NAME|   EMAIL|PHONE_NUMBER| HIRE_DATE|    JOB_ID|SALARY|COMMISSION_PCT|MANAGER_ID|DEPARTMENT_ID|EXP|\n",
      "+-----------+-----------+---------+--------+------------+----------+----------+------+--------------+----------+-------------+---+\n",
      "|        100|     Steven|     King|   SKING|515.123.4567|2003-06-17|   AD_PRES| 24000|          NULL|      NULL|           90| 21|\n",
      "|        101|      Neena|  Kochhar|NKOCHHAR|515.123.4568|2005-09-21|     AD_VP| 17000|          NULL|       100|           90| 19|\n",
      "|        102|        Lex|  De Haan| LDEHAAN|515.123.4569|2001-01-13|     AD_VP| 17000|          NULL|       100|           90| 23|\n",
      "|        103|  Alexander|   Hunold| AHUNOLD|590.423.4567|2006-01-03|   IT_PROG|  9000|          NULL|       102|           60| 18|\n",
      "|        104|      Bruce|    Ernst|  BERNST|590.423.4568|2007-05-21|   IT_PROG|  6000|          NULL|       103|           60| 17|\n",
      "|        105|      David|   Austin| DAUSTIN|590.423.4569|2005-06-25|   IT_PROG|  4800|          NULL|       103|           60| 19|\n",
      "|        106|      Valli|Pataballa|VPATABAL|590.423.4560|2006-02-05|   IT_PROG|  4800|          NULL|       103|           60| 18|\n",
      "|        107|      Diana|  Lorentz|DLORENTZ|590.423.5567|2007-02-07|   IT_PROG|  4200|          NULL|       103|           60| 17|\n",
      "|        108|      Nancy|Greenberg|NGREENBE|515.124.4569|2002-08-17|    FI_MGR| 12008|          NULL|       101|          100| 22|\n",
      "|        109|     Daniel|   Faviet| DFAVIET|515.124.4169|2002-08-16|FI_ACCOUNT|  9000|          NULL|       108|          100| 22|\n",
      "|        110|       John|     Chen|   JCHEN|515.124.4269|2005-09-28|FI_ACCOUNT|  8200|          NULL|       108|          100| 19|\n",
      "|        111|     Ismael|  Sciarra|ISCIARRA|515.124.4369|2005-09-30|FI_ACCOUNT|  7700|          NULL|       108|          100| 19|\n",
      "|        112|Jose Manuel|    Urman| JMURMAN|515.124.4469|2006-03-07|FI_ACCOUNT|  7800|          NULL|       108|          100| 18|\n",
      "|        113|       Luis|     Popp|   LPOPP|515.124.4567|2007-12-07|FI_ACCOUNT|  6900|          NULL|       108|          100| 17|\n",
      "|        114|        Den| Raphaely|DRAPHEAL|515.127.4561|2002-12-07|    PU_MAN| 11000|          NULL|       100|           30| 22|\n",
      "|        115|  Alexander|     Khoo|   AKHOO|515.127.4562|2003-05-18|  PU_CLERK|  3100|          NULL|       114|           30| 21|\n",
      "|        116|     Shelli|    Baida|  SBAIDA|515.127.4563|2005-12-24|  PU_CLERK|  2900|          NULL|       114|           30| 19|\n",
      "|        117|      Sigal|   Tobias| STOBIAS|515.127.4564|2005-07-24|  PU_CLERK|  2800|          NULL|       114|           30| 19|\n",
      "|        118|        Guy|   Himuro| GHIMURO|515.127.4565|2006-11-15|  PU_CLERK|  2600|          NULL|       114|           30| 18|\n",
      "+-----------+-----------+---------+--------+------------+----------+----------+------+--------------+----------+-------------+---+\n",
      "\n"
     ]
    }
   ],
   "source": [
    "data.show()"
   ]
  },
  {
   "cell_type": "code",
   "execution_count": 10,
   "metadata": {},
   "outputs": [],
   "source": [
    "from pyspark.ml.feature import VectorAssembler\n",
    "a=VectorAssembler(inputCols=['DEPARTMENT_ID','EXP'],outputCol=\"Independent Features\")"
   ]
  },
  {
   "cell_type": "code",
   "execution_count": 11,
   "metadata": {},
   "outputs": [],
   "source": [
    "o=a.transform(data)"
   ]
  },
  {
   "cell_type": "code",
   "execution_count": 13,
   "metadata": {},
   "outputs": [
    {
     "name": "stdout",
     "output_type": "stream",
     "text": [
      "+-----------+-----------+---------+--------+------------+----------+----------+------+--------------+----------+-------------+---+--------------------+\n",
      "|EMPLOYEE_ID| FIRST_NAME|LAST_NAME|   EMAIL|PHONE_NUMBER| HIRE_DATE|    JOB_ID|SALARY|COMMISSION_PCT|MANAGER_ID|DEPARTMENT_ID|EXP|Independent Features|\n",
      "+-----------+-----------+---------+--------+------------+----------+----------+------+--------------+----------+-------------+---+--------------------+\n",
      "|        100|     Steven|     King|   SKING|515.123.4567|2003-06-17|   AD_PRES| 24000|          NULL|      NULL|           90| 21|         [90.0,21.0]|\n",
      "|        101|      Neena|  Kochhar|NKOCHHAR|515.123.4568|2005-09-21|     AD_VP| 17000|          NULL|       100|           90| 19|         [90.0,19.0]|\n",
      "|        102|        Lex|  De Haan| LDEHAAN|515.123.4569|2001-01-13|     AD_VP| 17000|          NULL|       100|           90| 23|         [90.0,23.0]|\n",
      "|        103|  Alexander|   Hunold| AHUNOLD|590.423.4567|2006-01-03|   IT_PROG|  9000|          NULL|       102|           60| 18|         [60.0,18.0]|\n",
      "|        104|      Bruce|    Ernst|  BERNST|590.423.4568|2007-05-21|   IT_PROG|  6000|          NULL|       103|           60| 17|         [60.0,17.0]|\n",
      "|        105|      David|   Austin| DAUSTIN|590.423.4569|2005-06-25|   IT_PROG|  4800|          NULL|       103|           60| 19|         [60.0,19.0]|\n",
      "|        106|      Valli|Pataballa|VPATABAL|590.423.4560|2006-02-05|   IT_PROG|  4800|          NULL|       103|           60| 18|         [60.0,18.0]|\n",
      "|        107|      Diana|  Lorentz|DLORENTZ|590.423.5567|2007-02-07|   IT_PROG|  4200|          NULL|       103|           60| 17|         [60.0,17.0]|\n",
      "|        108|      Nancy|Greenberg|NGREENBE|515.124.4569|2002-08-17|    FI_MGR| 12008|          NULL|       101|          100| 22|        [100.0,22.0]|\n",
      "|        109|     Daniel|   Faviet| DFAVIET|515.124.4169|2002-08-16|FI_ACCOUNT|  9000|          NULL|       108|          100| 22|        [100.0,22.0]|\n",
      "|        110|       John|     Chen|   JCHEN|515.124.4269|2005-09-28|FI_ACCOUNT|  8200|          NULL|       108|          100| 19|        [100.0,19.0]|\n",
      "|        111|     Ismael|  Sciarra|ISCIARRA|515.124.4369|2005-09-30|FI_ACCOUNT|  7700|          NULL|       108|          100| 19|        [100.0,19.0]|\n",
      "|        112|Jose Manuel|    Urman| JMURMAN|515.124.4469|2006-03-07|FI_ACCOUNT|  7800|          NULL|       108|          100| 18|        [100.0,18.0]|\n",
      "|        113|       Luis|     Popp|   LPOPP|515.124.4567|2007-12-07|FI_ACCOUNT|  6900|          NULL|       108|          100| 17|        [100.0,17.0]|\n",
      "|        114|        Den| Raphaely|DRAPHEAL|515.127.4561|2002-12-07|    PU_MAN| 11000|          NULL|       100|           30| 22|         [30.0,22.0]|\n",
      "|        115|  Alexander|     Khoo|   AKHOO|515.127.4562|2003-05-18|  PU_CLERK|  3100|          NULL|       114|           30| 21|         [30.0,21.0]|\n",
      "|        116|     Shelli|    Baida|  SBAIDA|515.127.4563|2005-12-24|  PU_CLERK|  2900|          NULL|       114|           30| 19|         [30.0,19.0]|\n",
      "|        117|      Sigal|   Tobias| STOBIAS|515.127.4564|2005-07-24|  PU_CLERK|  2800|          NULL|       114|           30| 19|         [30.0,19.0]|\n",
      "|        118|        Guy|   Himuro| GHIMURO|515.127.4565|2006-11-15|  PU_CLERK|  2600|          NULL|       114|           30| 18|         [30.0,18.0]|\n",
      "+-----------+-----------+---------+--------+------------+----------+----------+------+--------------+----------+-------------+---+--------------------+\n",
      "\n"
     ]
    }
   ],
   "source": [
    "o.show()"
   ]
  },
  {
   "cell_type": "code",
   "execution_count": 60,
   "metadata": {},
   "outputs": [
    {
     "name": "stdout",
     "output_type": "stream",
     "text": [
      "+--------------------+------+\n",
      "|Independent Features|salary|\n",
      "+--------------------+------+\n",
      "|         [90.0,21.0]| 24000|\n",
      "|         [90.0,19.0]| 17000|\n",
      "|         [90.0,23.0]| 17000|\n",
      "|         [60.0,18.0]|  9000|\n",
      "|         [60.0,17.0]|  6000|\n",
      "|         [60.0,19.0]|  4800|\n",
      "|         [60.0,18.0]|  4800|\n",
      "|         [60.0,17.0]|  4200|\n",
      "|        [100.0,22.0]| 12008|\n",
      "|        [100.0,22.0]|  9000|\n",
      "|        [100.0,19.0]|  8200|\n",
      "|        [100.0,19.0]|  7700|\n",
      "|        [100.0,18.0]|  7800|\n",
      "|        [100.0,17.0]|  6900|\n",
      "|         [30.0,22.0]| 11000|\n",
      "|         [30.0,21.0]|  3100|\n",
      "|         [30.0,19.0]|  2900|\n",
      "|         [30.0,19.0]|  2800|\n",
      "|         [30.0,18.0]|  2600|\n",
      "+--------------------+------+\n",
      "\n"
     ]
    }
   ],
   "source": [
    "final_dat=o.select('Independent Features','salary')\n",
    "final_dat.show()"
   ]
  },
  {
   "cell_type": "code",
   "execution_count": null,
   "metadata": {},
   "outputs": [],
   "source": []
  }
 ],
 "metadata": {
  "kernelspec": {
   "display_name": "Python 3",
   "language": "python",
   "name": "python3"
  },
  "language_info": {
   "codemirror_mode": {
    "name": "ipython",
    "version": 3
   },
   "file_extension": ".py",
   "mimetype": "text/x-python",
   "name": "python",
   "nbconvert_exporter": "python",
   "pygments_lexer": "ipython3",
   "version": "3.11.8"
  }
 },
 "nbformat": 4,
 "nbformat_minor": 2
}
