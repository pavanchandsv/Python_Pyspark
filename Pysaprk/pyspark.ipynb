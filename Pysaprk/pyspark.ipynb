{
 "cells": [
  {
   "cell_type": "code",
   "execution_count": null,
   "metadata": {},
   "outputs": [],
   "source": [
    "import pyspark as pys"
   ]
  },
  {
   "cell_type": "code",
   "execution_count": 2,
   "metadata": {},
   "outputs": [],
   "source": [
    "from pyspark.sql import SparkSession"
   ]
  },
  {
   "cell_type": "code",
   "execution_count": 3,
   "metadata": {},
   "outputs": [],
   "source": [
    "spark=SparkSession.builder.appName('practise').getOrCreate()"
   ]
  },
  {
   "cell_type": "code",
   "execution_count": 4,
   "metadata": {},
   "outputs": [
    {
     "data": {
      "text/html": [
       "\n",
       "            <div>\n",
       "                <p><b>SparkSession - in-memory</b></p>\n",
       "                \n",
       "        <div>\n",
       "            <p><b>SparkContext</b></p>\n",
       "\n",
       "            <p><a href=\"http://MSI-PC.mshome.net:4040\">Spark UI</a></p>\n",
       "\n",
       "            <dl>\n",
       "              <dt>Version</dt>\n",
       "                <dd><code>v3.5.1</code></dd>\n",
       "              <dt>Master</dt>\n",
       "                <dd><code>local[*]</code></dd>\n",
       "              <dt>AppName</dt>\n",
       "                <dd><code>practise</code></dd>\n",
       "            </dl>\n",
       "        </div>\n",
       "        \n",
       "            </div>\n",
       "        "
      ],
      "text/plain": [
       "<pyspark.sql.session.SparkSession at 0x2baff7a2e90>"
      ]
     },
     "execution_count": 4,
     "metadata": {},
     "output_type": "execute_result"
    }
   ],
   "source": [
    "spark"
   ]
  },
  {
   "cell_type": "code",
   "execution_count": 5,
   "metadata": {},
   "outputs": [],
   "source": [
    "df_py=spark.read.csv('D:\\CODES\\FlatFiles\\emp_csv\\EMP.csv',header=True,inferSchema=True)"
   ]
  },
  {
   "cell_type": "code",
   "execution_count": 6,
   "metadata": {},
   "outputs": [
    {
     "name": "stdout",
     "output_type": "stream",
     "text": [
      "+-----------+-----------+---------+--------+------------+----------+----------+------+--------------+----------+-------------+\n",
      "|EMPLOYEE_ID| FIRST_NAME|LAST_NAME|   EMAIL|PHONE_NUMBER| HIRE_DATE|    JOB_ID|SALARY|COMMISSION_PCT|MANAGER_ID|DEPARTMENT_ID|\n",
      "+-----------+-----------+---------+--------+------------+----------+----------+------+--------------+----------+-------------+\n",
      "|        100|     Steven|     King|   SKING|515.123.4567|2003-06-17|   AD_PRES| 24000|          NULL|      NULL|           90|\n",
      "|        101|      Neena|  Kochhar|NKOCHHAR|515.123.4568|2005-09-21|     AD_VP| 17000|          NULL|       100|           90|\n",
      "|        102|        Lex|  De Haan| LDEHAAN|515.123.4569|2001-01-13|     AD_VP| 17000|          NULL|       100|           90|\n",
      "|        103|  Alexander|   Hunold| AHUNOLD|590.423.4567|2006-01-03|   IT_PROG|  9000|          NULL|       102|           60|\n",
      "|        104|      Bruce|    Ernst|  BERNST|590.423.4568|2007-05-21|   IT_PROG|  6000|          NULL|       103|           60|\n",
      "|        105|      David|   Austin| DAUSTIN|590.423.4569|2005-06-25|   IT_PROG|  4800|          NULL|       103|           60|\n",
      "|        106|      Valli|Pataballa|VPATABAL|590.423.4560|2006-02-05|   IT_PROG|  4800|          NULL|       103|           60|\n",
      "|        107|      Diana|  Lorentz|DLORENTZ|590.423.5567|2007-02-07|   IT_PROG|  4200|          NULL|       103|           60|\n",
      "|        108|      Nancy|Greenberg|NGREENBE|515.124.4569|2002-08-17|    FI_MGR| 12008|          NULL|       101|          100|\n",
      "|        109|     Daniel|   Faviet| DFAVIET|515.124.4169|2002-08-16|FI_ACCOUNT|  9000|          NULL|       108|          100|\n",
      "|        110|       John|     Chen|   JCHEN|515.124.4269|2005-09-28|FI_ACCOUNT|  8200|          NULL|       108|          100|\n",
      "|        111|     Ismael|  Sciarra|ISCIARRA|515.124.4369|2005-09-30|FI_ACCOUNT|  7700|          NULL|       108|          100|\n",
      "|        112|Jose Manuel|    Urman| JMURMAN|515.124.4469|2006-03-07|FI_ACCOUNT|  7800|          NULL|       108|          100|\n",
      "|        113|       Luis|     Popp|   LPOPP|515.124.4567|2007-12-07|FI_ACCOUNT|  6900|          NULL|       108|          100|\n",
      "|        114|        Den| Raphaely|DRAPHEAL|515.127.4561|2002-12-07|    PU_MAN| 11000|          NULL|       100|           30|\n",
      "|        115|  Alexander|     Khoo|   AKHOO|515.127.4562|2003-05-18|  PU_CLERK|  3100|          NULL|       114|           30|\n",
      "|        116|     Shelli|    Baida|  SBAIDA|515.127.4563|2005-12-24|  PU_CLERK|  2900|          NULL|       114|           30|\n",
      "|        117|      Sigal|   Tobias| STOBIAS|515.127.4564|2005-07-24|  PU_CLERK|  2800|          NULL|       114|           30|\n",
      "|        118|        Guy|   Himuro| GHIMURO|515.127.4565|2006-11-15|  PU_CLERK|  2600|          NULL|       114|           30|\n",
      "+-----------+-----------+---------+--------+------------+----------+----------+------+--------------+----------+-------------+\n",
      "\n"
     ]
    }
   ],
   "source": [
    "df_py.show()"
   ]
  },
  {
   "cell_type": "code",
   "execution_count": 7,
   "metadata": {},
   "outputs": [
    {
     "data": {
      "text/plain": [
       "[Row(EMPLOYEE_ID=100, FIRST_NAME='Steven', LAST_NAME='King', EMAIL='SKING', PHONE_NUMBER='515.123.4567', HIRE_DATE=datetime.date(2003, 6, 17), JOB_ID='AD_PRES', SALARY=24000, COMMISSION_PCT=None, MANAGER_ID=None, DEPARTMENT_ID=90),\n",
       " Row(EMPLOYEE_ID=101, FIRST_NAME='Neena', LAST_NAME='Kochhar', EMAIL='NKOCHHAR', PHONE_NUMBER='515.123.4568', HIRE_DATE=datetime.date(2005, 9, 21), JOB_ID='AD_VP', SALARY=17000, COMMISSION_PCT=None, MANAGER_ID=100, DEPARTMENT_ID=90),\n",
       " Row(EMPLOYEE_ID=102, FIRST_NAME='Lex', LAST_NAME='De Haan', EMAIL='LDEHAAN', PHONE_NUMBER='515.123.4569', HIRE_DATE=datetime.date(2001, 1, 13), JOB_ID='AD_VP', SALARY=17000, COMMISSION_PCT=None, MANAGER_ID=100, DEPARTMENT_ID=90)]"
      ]
     },
     "execution_count": 7,
     "metadata": {},
     "output_type": "execute_result"
    }
   ],
   "source": [
    "df_py.head(3)"
   ]
  },
  {
   "cell_type": "code",
   "execution_count": 8,
   "metadata": {},
   "outputs": [
    {
     "name": "stdout",
     "output_type": "stream",
     "text": [
      "+--------+------+\n",
      "|   EMAIL|SALARY|\n",
      "+--------+------+\n",
      "|   SKING| 24000|\n",
      "|NKOCHHAR| 17000|\n",
      "+--------+------+\n",
      "only showing top 2 rows\n",
      "\n"
     ]
    }
   ],
   "source": [
    "df_py.select('EMAIL','SALARY').show(2)"
   ]
  },
  {
   "cell_type": "code",
   "execution_count": 9,
   "metadata": {},
   "outputs": [
    {
     "data": {
      "text/plain": [
       "[('EMPLOYEE_ID', 'int'),\n",
       " ('FIRST_NAME', 'string'),\n",
       " ('LAST_NAME', 'string'),\n",
       " ('EMAIL', 'string'),\n",
       " ('PHONE_NUMBER', 'string'),\n",
       " ('HIRE_DATE', 'date'),\n",
       " ('JOB_ID', 'string'),\n",
       " ('SALARY', 'int'),\n",
       " ('COMMISSION_PCT', 'string'),\n",
       " ('MANAGER_ID', 'int'),\n",
       " ('DEPARTMENT_ID', 'int')]"
      ]
     },
     "execution_count": 9,
     "metadata": {},
     "output_type": "execute_result"
    }
   ],
   "source": [
    "df_py.dtypes"
   ]
  },
  {
   "cell_type": "code",
   "execution_count": 10,
   "metadata": {},
   "outputs": [
    {
     "name": "stdout",
     "output_type": "stream",
     "text": [
      "+-------+-----------------+----------+---------+--------+------------+-------+-----------------+--------------+------------------+------------------+\n",
      "|summary|      EMPLOYEE_ID|FIRST_NAME|LAST_NAME|   EMAIL|PHONE_NUMBER| JOB_ID|           SALARY|COMMISSION_PCT|        MANAGER_ID|     DEPARTMENT_ID|\n",
      "+-------+-----------------+----------+---------+--------+------------+-------+-----------------+--------------+------------------+------------------+\n",
      "|  count|               19|        19|       19|      19|          19|     19|               19|             0|                18|                19|\n",
      "|   mean|            109.0|      NULL|     NULL|    NULL|        NULL|   NULL|8463.578947368422|          NULL|106.16666666666667| 69.47368421052632|\n",
      "| stddev|5.627314338711377|      NULL|     NULL|    NULL|        NULL|   NULL|5713.049684866603|          NULL| 5.204635942514865|28.958530543314353|\n",
      "|    min|              100| Alexander|   Austin| AHUNOLD|515.123.4567|AD_PRES|             2600|          NULL|               100|                30|\n",
      "|    max|              118|     Valli|    Urman|VPATABAL|590.423.5567| PU_MAN|            24000|          NULL|               114|               100|\n",
      "+-------+-----------------+----------+---------+--------+------------+-------+-----------------+--------------+------------------+------------------+\n",
      "\n"
     ]
    }
   ],
   "source": [
    "df_py.describe().show()"
   ]
  },
  {
   "cell_type": "code",
   "execution_count": 21,
   "metadata": {},
   "outputs": [],
   "source": [
    "df_py2=df_py.withColumn('SAL_PREDICTIONS',df_py['COMMISSION_PCT'])"
   ]
  },
  {
   "cell_type": "code",
   "execution_count": 22,
   "metadata": {},
   "outputs": [
    {
     "name": "stdout",
     "output_type": "stream",
     "text": [
      "+-----------+-----------+---------+--------+------------+----------+----------+------+--------------+----------+-------------+---------------+\n",
      "|EMPLOYEE_ID| FIRST_NAME|LAST_NAME|   EMAIL|PHONE_NUMBER| HIRE_DATE|    JOB_ID|SALARY|COMMISSION_PCT|MANAGER_ID|DEPARTMENT_ID|SAL_PREDICTIONS|\n",
      "+-----------+-----------+---------+--------+------------+----------+----------+------+--------------+----------+-------------+---------------+\n",
      "|        100|     Steven|     King|   SKING|515.123.4567|2003-06-17|   AD_PRES| 24000|          NULL|      NULL|           90|           NULL|\n",
      "|        101|      Neena|  Kochhar|NKOCHHAR|515.123.4568|2005-09-21|     AD_VP| 17000|          NULL|       100|           90|           NULL|\n",
      "|        102|        Lex|  De Haan| LDEHAAN|515.123.4569|2001-01-13|     AD_VP| 17000|          NULL|       100|           90|           NULL|\n",
      "|        103|  Alexander|   Hunold| AHUNOLD|590.423.4567|2006-01-03|   IT_PROG|  9000|          NULL|       102|           60|           NULL|\n",
      "|        104|      Bruce|    Ernst|  BERNST|590.423.4568|2007-05-21|   IT_PROG|  6000|          NULL|       103|           60|           NULL|\n",
      "|        105|      David|   Austin| DAUSTIN|590.423.4569|2005-06-25|   IT_PROG|  4800|          NULL|       103|           60|           NULL|\n",
      "|        106|      Valli|Pataballa|VPATABAL|590.423.4560|2006-02-05|   IT_PROG|  4800|          NULL|       103|           60|           NULL|\n",
      "|        107|      Diana|  Lorentz|DLORENTZ|590.423.5567|2007-02-07|   IT_PROG|  4200|          NULL|       103|           60|           NULL|\n",
      "|        108|      Nancy|Greenberg|NGREENBE|515.124.4569|2002-08-17|    FI_MGR| 12008|          NULL|       101|          100|           NULL|\n",
      "|        109|     Daniel|   Faviet| DFAVIET|515.124.4169|2002-08-16|FI_ACCOUNT|  9000|          NULL|       108|          100|           NULL|\n",
      "|        110|       John|     Chen|   JCHEN|515.124.4269|2005-09-28|FI_ACCOUNT|  8200|          NULL|       108|          100|           NULL|\n",
      "|        111|     Ismael|  Sciarra|ISCIARRA|515.124.4369|2005-09-30|FI_ACCOUNT|  7700|          NULL|       108|          100|           NULL|\n",
      "|        112|Jose Manuel|    Urman| JMURMAN|515.124.4469|2006-03-07|FI_ACCOUNT|  7800|          NULL|       108|          100|           NULL|\n",
      "|        113|       Luis|     Popp|   LPOPP|515.124.4567|2007-12-07|FI_ACCOUNT|  6900|          NULL|       108|          100|           NULL|\n",
      "|        114|        Den| Raphaely|DRAPHEAL|515.127.4561|2002-12-07|    PU_MAN| 11000|          NULL|       100|           30|           NULL|\n",
      "|        115|  Alexander|     Khoo|   AKHOO|515.127.4562|2003-05-18|  PU_CLERK|  3100|          NULL|       114|           30|           NULL|\n",
      "|        116|     Shelli|    Baida|  SBAIDA|515.127.4563|2005-12-24|  PU_CLERK|  2900|          NULL|       114|           30|           NULL|\n",
      "|        117|      Sigal|   Tobias| STOBIAS|515.127.4564|2005-07-24|  PU_CLERK|  2800|          NULL|       114|           30|           NULL|\n",
      "|        118|        Guy|   Himuro| GHIMURO|515.127.4565|2006-11-15|  PU_CLERK|  2600|          NULL|       114|           30|           NULL|\n",
      "+-----------+-----------+---------+--------+------------+----------+----------+------+--------------+----------+-------------+---------------+\n",
      "\n"
     ]
    }
   ],
   "source": [
    "df_py2.show()"
   ]
  },
  {
   "cell_type": "code",
   "execution_count": 27,
   "metadata": {},
   "outputs": [
    {
     "name": "stdout",
     "output_type": "stream",
     "text": [
      "+-----------+----------+---------+-----+------------+---------+------+------+--------------+----------+-------------+---------------+\n",
      "|EMPLOYEE_ID|FIRST_NAME|LAST_NAME|EMAIL|PHONE_NUMBER|HIRE_DATE|JOB_ID|SALARY|COMMISSION_PCT|MANAGER_ID|DEPARTMENT_ID|SAL_PREDICTIONS|\n",
      "+-----------+----------+---------+-----+------------+---------+------+------+--------------+----------+-------------+---------------+\n",
      "+-----------+----------+---------+-----+------------+---------+------+------+--------------+----------+-------------+---------------+\n",
      "\n"
     ]
    }
   ],
   "source": [
    "df_py2.na.drop().show()"
   ]
  },
  {
   "cell_type": "code",
   "execution_count": 34,
   "metadata": {},
   "outputs": [
    {
     "name": "stdout",
     "output_type": "stream",
     "text": [
      "+-----------+----------+---------+-----+------------+---------+------+------+--------------+----------+-------------+---------------+\n",
      "|EMPLOYEE_ID|FIRST_NAME|LAST_NAME|EMAIL|PHONE_NUMBER|HIRE_DATE|JOB_ID|SALARY|COMMISSION_PCT|MANAGER_ID|DEPARTMENT_ID|SAL_PREDICTIONS|\n",
      "+-----------+----------+---------+-----+------------+---------+------+------+--------------+----------+-------------+---------------+\n",
      "+-----------+----------+---------+-----+------------+---------+------+------+--------------+----------+-------------+---------------+\n",
      "\n"
     ]
    }
   ],
   "source": [
    "\n",
    "#all implies all row values are null , any impliesa nyone one value is null\n",
    "df_py2.na.drop(how='any').show()"
   ]
  },
  {
   "cell_type": "code",
   "execution_count": 35,
   "metadata": {},
   "outputs": [
    {
     "name": "stdout",
     "output_type": "stream",
     "text": [
      "+-----------+-----------+---------+--------+------------+----------+----------+------+--------------+----------+-------------+---------------+\n",
      "|EMPLOYEE_ID| FIRST_NAME|LAST_NAME|   EMAIL|PHONE_NUMBER| HIRE_DATE|    JOB_ID|SALARY|COMMISSION_PCT|MANAGER_ID|DEPARTMENT_ID|SAL_PREDICTIONS|\n",
      "+-----------+-----------+---------+--------+------------+----------+----------+------+--------------+----------+-------------+---------------+\n",
      "|        100|     Steven|     King|   SKING|515.123.4567|2003-06-17|   AD_PRES| 24000|          NULL|      NULL|           90|           NULL|\n",
      "|        101|      Neena|  Kochhar|NKOCHHAR|515.123.4568|2005-09-21|     AD_VP| 17000|          NULL|       100|           90|           NULL|\n",
      "|        102|        Lex|  De Haan| LDEHAAN|515.123.4569|2001-01-13|     AD_VP| 17000|          NULL|       100|           90|           NULL|\n",
      "|        103|  Alexander|   Hunold| AHUNOLD|590.423.4567|2006-01-03|   IT_PROG|  9000|          NULL|       102|           60|           NULL|\n",
      "|        104|      Bruce|    Ernst|  BERNST|590.423.4568|2007-05-21|   IT_PROG|  6000|          NULL|       103|           60|           NULL|\n",
      "|        105|      David|   Austin| DAUSTIN|590.423.4569|2005-06-25|   IT_PROG|  4800|          NULL|       103|           60|           NULL|\n",
      "|        106|      Valli|Pataballa|VPATABAL|590.423.4560|2006-02-05|   IT_PROG|  4800|          NULL|       103|           60|           NULL|\n",
      "|        107|      Diana|  Lorentz|DLORENTZ|590.423.5567|2007-02-07|   IT_PROG|  4200|          NULL|       103|           60|           NULL|\n",
      "|        108|      Nancy|Greenberg|NGREENBE|515.124.4569|2002-08-17|    FI_MGR| 12008|          NULL|       101|          100|           NULL|\n",
      "|        109|     Daniel|   Faviet| DFAVIET|515.124.4169|2002-08-16|FI_ACCOUNT|  9000|          NULL|       108|          100|           NULL|\n",
      "|        110|       John|     Chen|   JCHEN|515.124.4269|2005-09-28|FI_ACCOUNT|  8200|          NULL|       108|          100|           NULL|\n",
      "|        111|     Ismael|  Sciarra|ISCIARRA|515.124.4369|2005-09-30|FI_ACCOUNT|  7700|          NULL|       108|          100|           NULL|\n",
      "|        112|Jose Manuel|    Urman| JMURMAN|515.124.4469|2006-03-07|FI_ACCOUNT|  7800|          NULL|       108|          100|           NULL|\n",
      "|        113|       Luis|     Popp|   LPOPP|515.124.4567|2007-12-07|FI_ACCOUNT|  6900|          NULL|       108|          100|           NULL|\n",
      "|        114|        Den| Raphaely|DRAPHEAL|515.127.4561|2002-12-07|    PU_MAN| 11000|          NULL|       100|           30|           NULL|\n",
      "|        115|  Alexander|     Khoo|   AKHOO|515.127.4562|2003-05-18|  PU_CLERK|  3100|          NULL|       114|           30|           NULL|\n",
      "|        116|     Shelli|    Baida|  SBAIDA|515.127.4563|2005-12-24|  PU_CLERK|  2900|          NULL|       114|           30|           NULL|\n",
      "|        117|      Sigal|   Tobias| STOBIAS|515.127.4564|2005-07-24|  PU_CLERK|  2800|          NULL|       114|           30|           NULL|\n",
      "|        118|        Guy|   Himuro| GHIMURO|515.127.4565|2006-11-15|  PU_CLERK|  2600|          NULL|       114|           30|           NULL|\n",
      "+-----------+-----------+---------+--------+------------+----------+----------+------+--------------+----------+-------------+---------------+\n",
      "\n"
     ]
    }
   ],
   "source": [
    "#atleast 2 nonnull values are present\n",
    "df_py2.na.drop(how='any',thresh=2).show()"
   ]
  },
  {
   "cell_type": "code",
   "execution_count": 37,
   "metadata": {},
   "outputs": [
    {
     "name": "stdout",
     "output_type": "stream",
     "text": [
      "+-----------+----------+---------+-----+------------+---------+------+------+--------------+----------+-------------+---------------+\n",
      "|EMPLOYEE_ID|FIRST_NAME|LAST_NAME|EMAIL|PHONE_NUMBER|HIRE_DATE|JOB_ID|SALARY|COMMISSION_PCT|MANAGER_ID|DEPARTMENT_ID|SAL_PREDICTIONS|\n",
      "+-----------+----------+---------+-----+------------+---------+------+------+--------------+----------+-------------+---------------+\n",
      "+-----------+----------+---------+-----+------------+---------+------+------+--------------+----------+-------------+---------------+\n",
      "\n"
     ]
    }
   ],
   "source": [
    "#every null value in subset ,the row is removed\n",
    "df_py2.na.drop(how='any',subset=['COMMISSION_PCT']).show()"
   ]
  },
  {
   "cell_type": "code",
   "execution_count": 56,
   "metadata": {},
   "outputs": [],
   "source": [
    "df_py2=df_py2.withColumnRenamed('SAL_PREDICTIONS','SAL_PREDICTION')"
   ]
  },
  {
   "cell_type": "code",
   "execution_count": 38,
   "metadata": {},
   "outputs": [],
   "source": [
    "df_py2=df_py2.drop('SAL_PREDICTION')"
   ]
  },
  {
   "cell_type": "code",
   "execution_count": 43,
   "metadata": {},
   "outputs": [
    {
     "name": "stdout",
     "output_type": "stream",
     "text": [
      "+-----------+-----------+---------+--------+------------+----------+----------+------+--------------+----------+-------------+\n",
      "|EMPLOYEE_ID| FIRST_NAME|LAST_NAME|   EMAIL|PHONE_NUMBER| HIRE_DATE|    JOB_ID|SALARY|COMMISSION_PCT|MANAGER_ID|DEPARTMENT_ID|\n",
      "+-----------+-----------+---------+--------+------------+----------+----------+------+--------------+----------+-------------+\n",
      "|        100|     Steven|     King|   SKING|515.123.4567|2003-06-17|   AD_PRES| 24000|            NA|      NULL|           90|\n",
      "|        101|      Neena|  Kochhar|NKOCHHAR|515.123.4568|2005-09-21|     AD_VP| 17000|            NA|       100|           90|\n",
      "|        102|        Lex|  De Haan| LDEHAAN|515.123.4569|2001-01-13|     AD_VP| 17000|            NA|       100|           90|\n",
      "|        103|  Alexander|   Hunold| AHUNOLD|590.423.4567|2006-01-03|   IT_PROG|  9000|            NA|       102|           60|\n",
      "|        104|      Bruce|    Ernst|  BERNST|590.423.4568|2007-05-21|   IT_PROG|  6000|            NA|       103|           60|\n",
      "|        105|      David|   Austin| DAUSTIN|590.423.4569|2005-06-25|   IT_PROG|  4800|            NA|       103|           60|\n",
      "|        106|      Valli|Pataballa|VPATABAL|590.423.4560|2006-02-05|   IT_PROG|  4800|            NA|       103|           60|\n",
      "|        107|      Diana|  Lorentz|DLORENTZ|590.423.5567|2007-02-07|   IT_PROG|  4200|            NA|       103|           60|\n",
      "|        108|      Nancy|Greenberg|NGREENBE|515.124.4569|2002-08-17|    FI_MGR| 12008|            NA|       101|          100|\n",
      "|        109|     Daniel|   Faviet| DFAVIET|515.124.4169|2002-08-16|FI_ACCOUNT|  9000|            NA|       108|          100|\n",
      "|        110|       John|     Chen|   JCHEN|515.124.4269|2005-09-28|FI_ACCOUNT|  8200|            NA|       108|          100|\n",
      "|        111|     Ismael|  Sciarra|ISCIARRA|515.124.4369|2005-09-30|FI_ACCOUNT|  7700|            NA|       108|          100|\n",
      "|        112|Jose Manuel|    Urman| JMURMAN|515.124.4469|2006-03-07|FI_ACCOUNT|  7800|            NA|       108|          100|\n",
      "|        113|       Luis|     Popp|   LPOPP|515.124.4567|2007-12-07|FI_ACCOUNT|  6900|            NA|       108|          100|\n",
      "|        114|        Den| Raphaely|DRAPHEAL|515.127.4561|2002-12-07|    PU_MAN| 11000|            NA|       100|           30|\n",
      "|        115|  Alexander|     Khoo|   AKHOO|515.127.4562|2003-05-18|  PU_CLERK|  3100|            NA|       114|           30|\n",
      "|        116|     Shelli|    Baida|  SBAIDA|515.127.4563|2005-12-24|  PU_CLERK|  2900|            NA|       114|           30|\n",
      "|        117|      Sigal|   Tobias| STOBIAS|515.127.4564|2005-07-24|  PU_CLERK|  2800|            NA|       114|           30|\n",
      "|        118|        Guy|   Himuro| GHIMURO|515.127.4565|2006-11-15|  PU_CLERK|  2600|            NA|       114|           30|\n",
      "+-----------+-----------+---------+--------+------------+----------+----------+------+--------------+----------+-------------+\n",
      "\n"
     ]
    }
   ],
   "source": [
    "df_py.na.fill('NA',subset=['COMMISSION_PCT']).show()"
   ]
  },
  {
   "cell_type": "code",
   "execution_count": 108,
   "metadata": {},
   "outputs": [
    {
     "name": "stdout",
     "output_type": "stream",
     "text": [
      "+-----------+-----------+---------+--------+------------+----------+----------+------+--------------+----------+-------------+\n",
      "|EMPLOYEE_ID| FIRST_NAME|LAST_NAME|   EMAIL|PHONE_NUMBER| HIRE_DATE|    JOB_ID|SALARY|COMMISSION_PCT|MANAGER_ID|DEPARTMENT_ID|\n",
      "+-----------+-----------+---------+--------+------------+----------+----------+------+--------------+----------+-------------+\n",
      "|        109|     Daniel|   Faviet| DFAVIET|515.124.4169|2002-08-16|FI_ACCOUNT|  9000|          NULL|       108|          100|\n",
      "|        110|       John|     Chen|   JCHEN|515.124.4269|2005-09-28|FI_ACCOUNT|  8200|          NULL|       108|          100|\n",
      "|        111|     Ismael|  Sciarra|ISCIARRA|515.124.4369|2005-09-30|FI_ACCOUNT|  7700|          NULL|       108|          100|\n",
      "|        112|Jose Manuel|    Urman| JMURMAN|515.124.4469|2006-03-07|FI_ACCOUNT|  7800|          NULL|       108|          100|\n",
      "|        113|       Luis|     Popp|   LPOPP|515.124.4567|2007-12-07|FI_ACCOUNT|  6900|          NULL|       108|          100|\n",
      "+-----------+-----------+---------+--------+------------+----------+----------+------+--------------+----------+-------------+\n",
      "\n"
     ]
    }
   ],
   "source": [
    "df_py.filter(~(df_py['SALARY']>10000) & (df_py['DEPARTMENT_ID'].isin([90,100]))).show()"
   ]
  },
  {
   "cell_type": "code",
   "execution_count": 57,
   "metadata": {},
   "outputs": [
    {
     "name": "stdout",
     "output_type": "stream",
     "text": [
      "+----------+----------------+-----------+---------------+------------------+\n",
      "|    JOB_ID|sum(EMPLOYEE_ID)|sum(SALARY)|sum(MANAGER_ID)|sum(DEPARTMENT_ID)|\n",
      "+----------+----------------+-----------+---------------+------------------+\n",
      "|FI_ACCOUNT|             555|      39600|            540|               500|\n",
      "|   IT_PROG|             525|      28800|            514|               300|\n",
      "|    FI_MGR|             108|      12008|            101|               100|\n",
      "|  PU_CLERK|             466|      11400|            456|               120|\n",
      "|    PU_MAN|             114|      11000|            100|                30|\n",
      "|   AD_PRES|             100|      24000|           NULL|                90|\n",
      "|     AD_VP|             203|      34000|            200|               180|\n",
      "+----------+----------------+-----------+---------------+------------------+\n",
      "\n"
     ]
    },
    {
     "ename": "AttributeError",
     "evalue": "'NoneType' object has no attribute 'select'",
     "output_type": "error",
     "traceback": [
      "\u001b[1;31m---------------------------------------------------------------------------\u001b[0m",
      "\u001b[1;31mAttributeError\u001b[0m                            Traceback (most recent call last)",
      "Cell \u001b[1;32mIn[57], line 1\u001b[0m\n\u001b[1;32m----> 1\u001b[0m \u001b[43mdf_py2\u001b[49m\u001b[38;5;241;43m.\u001b[39;49m\u001b[43mgroupBy\u001b[49m\u001b[43m(\u001b[49m\u001b[38;5;124;43m'\u001b[39;49m\u001b[38;5;124;43mJOB_ID\u001b[39;49m\u001b[38;5;124;43m'\u001b[39;49m\u001b[43m)\u001b[49m\u001b[38;5;241;43m.\u001b[39;49m\u001b[43msum\u001b[49m\u001b[43m(\u001b[49m\u001b[43m)\u001b[49m\u001b[38;5;241;43m.\u001b[39;49m\u001b[43mshow\u001b[49m\u001b[43m(\u001b[49m\u001b[43m)\u001b[49m\u001b[38;5;241;43m.\u001b[39;49m\u001b[43mselect\u001b[49m(\u001b[38;5;124m'\u001b[39m\u001b[38;5;124mSALARY\u001b[39m\u001b[38;5;124m'\u001b[39m)\n",
      "\u001b[1;31mAttributeError\u001b[0m: 'NoneType' object has no attribute 'select'"
     ]
    }
   ],
   "source": [
    "df_py2.groupBy('JOB_ID').sum().show().select('SALARY')"
   ]
  }
 ],
 "metadata": {
  "kernelspec": {
   "display_name": "Python 3",
   "language": "python",
   "name": "python3"
  },
  "language_info": {
   "codemirror_mode": {
    "name": "ipython",
    "version": 3
   },
   "file_extension": ".py",
   "mimetype": "text/x-python",
   "name": "python",
   "nbconvert_exporter": "python",
   "pygments_lexer": "ipython3",
   "version": "3.11.9"
  }
 },
 "nbformat": 4,
 "nbformat_minor": 2
}
