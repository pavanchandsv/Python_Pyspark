{
 "cells": [
  {
   "cell_type": "code",
   "execution_count": 3,
   "metadata": {},
   "outputs": [],
   "source": [
    "import pyspark\n",
    "from pyspark.sql import SparkSession"
   ]
  },
  {
   "cell_type": "code",
   "execution_count": 4,
   "metadata": {},
   "outputs": [],
   "source": [
    "spark=SparkSession.builder.appName('test-app').getOrCreate()"
   ]
  },
  {
   "cell_type": "code",
   "execution_count": 5,
   "metadata": {},
   "outputs": [],
   "source": [
    "df=spark.read.csv('D:\\CODES\\FlatFiles\\emp_csv\\EMP.csv',header=True,inferSchema=True)"
   ]
  },
  {
   "cell_type": "code",
   "execution_count": 6,
   "metadata": {},
   "outputs": [
    {
     "name": "stdout",
     "output_type": "stream",
     "text": [
      "root\n",
      " |-- EMPLOYEE_ID: integer (nullable = true)\n",
      " |-- FIRST_NAME: string (nullable = true)\n",
      " |-- LAST_NAME: string (nullable = true)\n",
      " |-- EMAIL: string (nullable = true)\n",
      " |-- PHONE_NUMBER: string (nullable = true)\n",
      " |-- HIRE_DATE: date (nullable = true)\n",
      " |-- JOB_ID: string (nullable = true)\n",
      " |-- SALARY: integer (nullable = true)\n",
      " |-- COMMISSION_PCT: string (nullable = true)\n",
      " |-- MANAGER_ID: integer (nullable = true)\n",
      " |-- DEPARTMENT_ID: integer (nullable = true)\n",
      "\n"
     ]
    }
   ],
   "source": [
    "df.printSchema()"
   ]
  },
  {
   "cell_type": "code",
   "execution_count": 7,
   "metadata": {},
   "outputs": [
    {
     "name": "stdout",
     "output_type": "stream",
     "text": [
      "+--------+------+\n",
      "|   EMAIL|SALARY|\n",
      "+--------+------+\n",
      "|   SKING| 24000|\n",
      "|NKOCHHAR| 17000|\n",
      "| LDEHAAN| 17000|\n",
      "| AHUNOLD|  9000|\n",
      "|  BERNST|  6000|\n",
      "| DAUSTIN|  4800|\n",
      "|VPATABAL|  4800|\n",
      "|DLORENTZ|  4200|\n",
      "|NGREENBE| 12008|\n",
      "| DFAVIET|  9000|\n",
      "|   JCHEN|  8200|\n",
      "|ISCIARRA|  7700|\n",
      "| JMURMAN|  7800|\n",
      "|   LPOPP|  6900|\n",
      "|DRAPHEAL| 11000|\n",
      "|   AKHOO|  3100|\n",
      "|  SBAIDA|  2900|\n",
      "| STOBIAS|  2800|\n",
      "| GHIMURO|  2600|\n",
      "+--------+------+\n",
      "\n"
     ]
    }
   ],
   "source": [
    "df.select(['EMAIL','SALARY']).show()"
   ]
  },
  {
   "cell_type": "code",
   "execution_count": 8,
   "metadata": {},
   "outputs": [
    {
     "data": {
      "text/plain": [
       "[('EMPLOYEE_ID', 'int'),\n",
       " ('FIRST_NAME', 'string'),\n",
       " ('LAST_NAME', 'string'),\n",
       " ('EMAIL', 'string'),\n",
       " ('PHONE_NUMBER', 'string'),\n",
       " ('HIRE_DATE', 'date'),\n",
       " ('JOB_ID', 'string'),\n",
       " ('SALARY', 'int'),\n",
       " ('COMMISSION_PCT', 'string'),\n",
       " ('MANAGER_ID', 'int'),\n",
       " ('DEPARTMENT_ID', 'int')]"
      ]
     },
     "execution_count": 8,
     "metadata": {},
     "output_type": "execute_result"
    }
   ],
   "source": [
    "df.dtypes"
   ]
  },
  {
   "cell_type": "code",
   "execution_count": 9,
   "metadata": {},
   "outputs": [
    {
     "name": "stdout",
     "output_type": "stream",
     "text": [
      "+-------+-----------------+----------+---------+--------+------------+-------+-----------------+--------------+------------------+------------------+\n",
      "|summary|      EMPLOYEE_ID|FIRST_NAME|LAST_NAME|   EMAIL|PHONE_NUMBER| JOB_ID|           SALARY|COMMISSION_PCT|        MANAGER_ID|     DEPARTMENT_ID|\n",
      "+-------+-----------------+----------+---------+--------+------------+-------+-----------------+--------------+------------------+------------------+\n",
      "|  count|               19|        19|       19|      19|          19|     19|               19|             0|                18|                19|\n",
      "|   mean|            109.0|      NULL|     NULL|    NULL|        NULL|   NULL|8463.578947368422|          NULL|106.16666666666667| 69.47368421052632|\n",
      "| stddev|5.627314338711377|      NULL|     NULL|    NULL|        NULL|   NULL|5713.049684866603|          NULL| 5.204635942514865|28.958530543314353|\n",
      "|    min|              100| Alexander|   Austin| AHUNOLD|515.123.4567|AD_PRES|             2600|          NULL|               100|                30|\n",
      "|    max|              118|     Valli|    Urman|VPATABAL|590.423.5567| PU_MAN|            24000|          NULL|               114|               100|\n",
      "+-------+-----------------+----------+---------+--------+------------+-------+-----------------+--------------+------------------+------------------+\n",
      "\n"
     ]
    }
   ],
   "source": [
    "df.describe().show()"
   ]
  },
  {
   "cell_type": "code",
   "execution_count": 10,
   "metadata": {},
   "outputs": [],
   "source": [
    "df1=df.withColumn('Exp',df['salary']+1000)"
   ]
  },
  {
   "cell_type": "code",
   "execution_count": 11,
   "metadata": {},
   "outputs": [],
   "source": [
    "df1=df1.withColumnRenamed('Exp','SAL_PREDIC')"
   ]
  },
  {
   "cell_type": "code",
   "execution_count": 12,
   "metadata": {},
   "outputs": [
    {
     "name": "stdout",
     "output_type": "stream",
     "text": [
      "+-----------+-----------+---------+--------+------------+----------+----------+------+--------------+----------+-------------+----------+\n",
      "|EMPLOYEE_ID| FIRST_NAME|LAST_NAME|   EMAIL|PHONE_NUMBER| HIRE_DATE|    JOB_ID|SALARY|COMMISSION_PCT|MANAGER_ID|DEPARTMENT_ID|SAL_PREDIC|\n",
      "+-----------+-----------+---------+--------+------------+----------+----------+------+--------------+----------+-------------+----------+\n",
      "|        100|     Steven|     King|   SKING|515.123.4567|2003-06-17|   AD_PRES| 24000|          NULL|      NULL|           90|     25000|\n",
      "|        101|      Neena|  Kochhar|NKOCHHAR|515.123.4568|2005-09-21|     AD_VP| 17000|          NULL|       100|           90|     18000|\n",
      "|        102|        Lex|  De Haan| LDEHAAN|515.123.4569|2001-01-13|     AD_VP| 17000|          NULL|       100|           90|     18000|\n",
      "|        103|  Alexander|   Hunold| AHUNOLD|590.423.4567|2006-01-03|   IT_PROG|  9000|          NULL|       102|           60|     10000|\n",
      "|        104|      Bruce|    Ernst|  BERNST|590.423.4568|2007-05-21|   IT_PROG|  6000|          NULL|       103|           60|      7000|\n",
      "|        105|      David|   Austin| DAUSTIN|590.423.4569|2005-06-25|   IT_PROG|  4800|          NULL|       103|           60|      5800|\n",
      "|        106|      Valli|Pataballa|VPATABAL|590.423.4560|2006-02-05|   IT_PROG|  4800|          NULL|       103|           60|      5800|\n",
      "|        107|      Diana|  Lorentz|DLORENTZ|590.423.5567|2007-02-07|   IT_PROG|  4200|          NULL|       103|           60|      5200|\n",
      "|        108|      Nancy|Greenberg|NGREENBE|515.124.4569|2002-08-17|    FI_MGR| 12008|          NULL|       101|          100|     13008|\n",
      "|        109|     Daniel|   Faviet| DFAVIET|515.124.4169|2002-08-16|FI_ACCOUNT|  9000|          NULL|       108|          100|     10000|\n",
      "|        110|       John|     Chen|   JCHEN|515.124.4269|2005-09-28|FI_ACCOUNT|  8200|          NULL|       108|          100|      9200|\n",
      "|        111|     Ismael|  Sciarra|ISCIARRA|515.124.4369|2005-09-30|FI_ACCOUNT|  7700|          NULL|       108|          100|      8700|\n",
      "|        112|Jose Manuel|    Urman| JMURMAN|515.124.4469|2006-03-07|FI_ACCOUNT|  7800|          NULL|       108|          100|      8800|\n",
      "|        113|       Luis|     Popp|   LPOPP|515.124.4567|2007-12-07|FI_ACCOUNT|  6900|          NULL|       108|          100|      7900|\n",
      "|        114|        Den| Raphaely|DRAPHEAL|515.127.4561|2002-12-07|    PU_MAN| 11000|          NULL|       100|           30|     12000|\n",
      "|        115|  Alexander|     Khoo|   AKHOO|515.127.4562|2003-05-18|  PU_CLERK|  3100|          NULL|       114|           30|      4100|\n",
      "|        116|     Shelli|    Baida|  SBAIDA|515.127.4563|2005-12-24|  PU_CLERK|  2900|          NULL|       114|           30|      3900|\n",
      "|        117|      Sigal|   Tobias| STOBIAS|515.127.4564|2005-07-24|  PU_CLERK|  2800|          NULL|       114|           30|      3800|\n",
      "|        118|        Guy|   Himuro| GHIMURO|515.127.4565|2006-11-15|  PU_CLERK|  2600|          NULL|       114|           30|      3600|\n",
      "+-----------+-----------+---------+--------+------------+----------+----------+------+--------------+----------+-------------+----------+\n",
      "\n"
     ]
    }
   ],
   "source": [
    "df1.show()"
   ]
  },
  {
   "cell_type": "code",
   "execution_count": 13,
   "metadata": {},
   "outputs": [
    {
     "name": "stdout",
     "output_type": "stream",
     "text": [
      "+-----------+-----------+---------+--------+------------+----------+----------+------+--------------+----------+-------------+\n",
      "|EMPLOYEE_ID| FIRST_NAME|LAST_NAME|   EMAIL|PHONE_NUMBER| HIRE_DATE|    JOB_ID|SALARY|COMMISSION_PCT|MANAGER_ID|DEPARTMENT_ID|\n",
      "+-----------+-----------+---------+--------+------------+----------+----------+------+--------------+----------+-------------+\n",
      "|        100|     Steven|     King|   SKING|515.123.4567|2003-06-17|   AD_PRES| 24000|          NULL|      NULL|           90|\n",
      "|        101|      Neena|  Kochhar|NKOCHHAR|515.123.4568|2005-09-21|     AD_VP| 17000|          NULL|       100|           90|\n",
      "|        102|        Lex|  De Haan| LDEHAAN|515.123.4569|2001-01-13|     AD_VP| 17000|          NULL|       100|           90|\n",
      "|        103|  Alexander|   Hunold| AHUNOLD|590.423.4567|2006-01-03|   IT_PROG|  9000|          NULL|       102|           60|\n",
      "|        104|      Bruce|    Ernst|  BERNST|590.423.4568|2007-05-21|   IT_PROG|  6000|          NULL|       103|           60|\n",
      "|        105|      David|   Austin| DAUSTIN|590.423.4569|2005-06-25|   IT_PROG|  4800|          NULL|       103|           60|\n",
      "|        106|      Valli|Pataballa|VPATABAL|590.423.4560|2006-02-05|   IT_PROG|  4800|          NULL|       103|           60|\n",
      "|        107|      Diana|  Lorentz|DLORENTZ|590.423.5567|2007-02-07|   IT_PROG|  4200|          NULL|       103|           60|\n",
      "|        108|      Nancy|Greenberg|NGREENBE|515.124.4569|2002-08-17|    FI_MGR| 12008|          NULL|       101|          100|\n",
      "|        109|     Daniel|   Faviet| DFAVIET|515.124.4169|2002-08-16|FI_ACCOUNT|  9000|          NULL|       108|          100|\n",
      "|        110|       John|     Chen|   JCHEN|515.124.4269|2005-09-28|FI_ACCOUNT|  8200|          NULL|       108|          100|\n",
      "|        111|     Ismael|  Sciarra|ISCIARRA|515.124.4369|2005-09-30|FI_ACCOUNT|  7700|          NULL|       108|          100|\n",
      "|        112|Jose Manuel|    Urman| JMURMAN|515.124.4469|2006-03-07|FI_ACCOUNT|  7800|          NULL|       108|          100|\n",
      "|        113|       Luis|     Popp|   LPOPP|515.124.4567|2007-12-07|FI_ACCOUNT|  6900|          NULL|       108|          100|\n",
      "|        114|        Den| Raphaely|DRAPHEAL|515.127.4561|2002-12-07|    PU_MAN| 11000|          NULL|       100|           30|\n",
      "|        115|  Alexander|     Khoo|   AKHOO|515.127.4562|2003-05-18|  PU_CLERK|  3100|          NULL|       114|           30|\n",
      "|        116|     Shelli|    Baida|  SBAIDA|515.127.4563|2005-12-24|  PU_CLERK|  2900|          NULL|       114|           30|\n",
      "|        117|      Sigal|   Tobias| STOBIAS|515.127.4564|2005-07-24|  PU_CLERK|  2800|          NULL|       114|           30|\n",
      "|        118|        Guy|   Himuro| GHIMURO|515.127.4565|2006-11-15|  PU_CLERK|  2600|          NULL|       114|           30|\n",
      "+-----------+-----------+---------+--------+------------+----------+----------+------+--------------+----------+-------------+\n",
      "\n"
     ]
    }
   ],
   "source": [
    "df.drop('SAL_PREDICt').show()"
   ]
  },
  {
   "cell_type": "code",
   "execution_count": 14,
   "metadata": {},
   "outputs": [
    {
     "name": "stdout",
     "output_type": "stream",
     "text": [
      "+-----------+-----------+---------+--------+------------+----------+----------+------+--------------+----------+-------------+----------+\n",
      "|EMPLOYEE_ID| FIRST_NAME|LAST_NAME|   EMAIL|PHONE_NUMBER| HIRE_DATE|    JOB_ID|SALARY|COMMISSION_PCT|MANAGER_ID|DEPARTMENT_ID|SAL_PREDIC|\n",
      "+-----------+-----------+---------+--------+------------+----------+----------+------+--------------+----------+-------------+----------+\n",
      "|        100|     Steven|     King|   SKING|515.123.4567|2003-06-17|   AD_PRES| 24000|      misssing|      NULL|           90|     25000|\n",
      "|        101|      Neena|  Kochhar|NKOCHHAR|515.123.4568|2005-09-21|     AD_VP| 17000|      misssing|       100|           90|     18000|\n",
      "|        102|        Lex|  De Haan| LDEHAAN|515.123.4569|2001-01-13|     AD_VP| 17000|      misssing|       100|           90|     18000|\n",
      "|        103|  Alexander|   Hunold| AHUNOLD|590.423.4567|2006-01-03|   IT_PROG|  9000|      misssing|       102|           60|     10000|\n",
      "|        104|      Bruce|    Ernst|  BERNST|590.423.4568|2007-05-21|   IT_PROG|  6000|      misssing|       103|           60|      7000|\n",
      "|        105|      David|   Austin| DAUSTIN|590.423.4569|2005-06-25|   IT_PROG|  4800|      misssing|       103|           60|      5800|\n",
      "|        106|      Valli|Pataballa|VPATABAL|590.423.4560|2006-02-05|   IT_PROG|  4800|      misssing|       103|           60|      5800|\n",
      "|        107|      Diana|  Lorentz|DLORENTZ|590.423.5567|2007-02-07|   IT_PROG|  4200|      misssing|       103|           60|      5200|\n",
      "|        108|      Nancy|Greenberg|NGREENBE|515.124.4569|2002-08-17|    FI_MGR| 12008|      misssing|       101|          100|     13008|\n",
      "|        109|     Daniel|   Faviet| DFAVIET|515.124.4169|2002-08-16|FI_ACCOUNT|  9000|      misssing|       108|          100|     10000|\n",
      "|        110|       John|     Chen|   JCHEN|515.124.4269|2005-09-28|FI_ACCOUNT|  8200|      misssing|       108|          100|      9200|\n",
      "|        111|     Ismael|  Sciarra|ISCIARRA|515.124.4369|2005-09-30|FI_ACCOUNT|  7700|      misssing|       108|          100|      8700|\n",
      "|        112|Jose Manuel|    Urman| JMURMAN|515.124.4469|2006-03-07|FI_ACCOUNT|  7800|      misssing|       108|          100|      8800|\n",
      "|        113|       Luis|     Popp|   LPOPP|515.124.4567|2007-12-07|FI_ACCOUNT|  6900|      misssing|       108|          100|      7900|\n",
      "|        114|        Den| Raphaely|DRAPHEAL|515.127.4561|2002-12-07|    PU_MAN| 11000|      misssing|       100|           30|     12000|\n",
      "|        115|  Alexander|     Khoo|   AKHOO|515.127.4562|2003-05-18|  PU_CLERK|  3100|      misssing|       114|           30|      4100|\n",
      "|        116|     Shelli|    Baida|  SBAIDA|515.127.4563|2005-12-24|  PU_CLERK|  2900|      misssing|       114|           30|      3900|\n",
      "|        117|      Sigal|   Tobias| STOBIAS|515.127.4564|2005-07-24|  PU_CLERK|  2800|      misssing|       114|           30|      3800|\n",
      "|        118|        Guy|   Himuro| GHIMURO|515.127.4565|2006-11-15|  PU_CLERK|  2600|      misssing|       114|           30|      3600|\n",
      "+-----------+-----------+---------+--------+------------+----------+----------+------+--------------+----------+-------------+----------+\n",
      "\n"
     ]
    }
   ],
   "source": [
    "df1.na.fill('misssing').show()"
   ]
  },
  {
   "cell_type": "code",
   "execution_count": 15,
   "metadata": {},
   "outputs": [
    {
     "name": "stdout",
     "output_type": "stream",
     "text": [
      "+-----------+----------+---------+-----+------------+---------+------+------+--------------+----------+-------------+----------+\n",
      "|EMPLOYEE_ID|FIRST_NAME|LAST_NAME|EMAIL|PHONE_NUMBER|HIRE_DATE|JOB_ID|SALARY|COMMISSION_PCT|MANAGER_ID|DEPARTMENT_ID|SAL_PREDIC|\n",
      "+-----------+----------+---------+-----+------------+---------+------+------+--------------+----------+-------------+----------+\n",
      "+-----------+----------+---------+-----+------------+---------+------+------+--------------+----------+-------------+----------+\n",
      "\n"
     ]
    }
   ],
   "source": [
    "df1.na.drop().show()"
   ]
  },
  {
   "cell_type": "code",
   "execution_count": 16,
   "metadata": {},
   "outputs": [
    {
     "name": "stdout",
     "output_type": "stream",
     "text": [
      "+-----------+----------+---------+-----+------------+---------+------+------+--------------+----------+-------------+----------+\n",
      "|EMPLOYEE_ID|FIRST_NAME|LAST_NAME|EMAIL|PHONE_NUMBER|HIRE_DATE|JOB_ID|SALARY|COMMISSION_PCT|MANAGER_ID|DEPARTMENT_ID|SAL_PREDIC|\n",
      "+-----------+----------+---------+-----+------------+---------+------+------+--------------+----------+-------------+----------+\n",
      "+-----------+----------+---------+-----+------------+---------+------+------+--------------+----------+-------------+----------+\n",
      "\n"
     ]
    }
   ],
   "source": [
    "df1.na.drop(how='any').show()"
   ]
  },
  {
   "cell_type": "code",
   "execution_count": 17,
   "metadata": {},
   "outputs": [
    {
     "name": "stdout",
     "output_type": "stream",
     "text": [
      "+-----------+-----------+---------+--------+------------+----------+----------+------+--------------+----------+-------------+----------+\n",
      "|EMPLOYEE_ID| FIRST_NAME|LAST_NAME|   EMAIL|PHONE_NUMBER| HIRE_DATE|    JOB_ID|SALARY|COMMISSION_PCT|MANAGER_ID|DEPARTMENT_ID|SAL_PREDIC|\n",
      "+-----------+-----------+---------+--------+------------+----------+----------+------+--------------+----------+-------------+----------+\n",
      "|        100|     Steven|     King|   SKING|515.123.4567|2003-06-17|   AD_PRES| 24000|          NULL|      NULL|           90|     25000|\n",
      "|        101|      Neena|  Kochhar|NKOCHHAR|515.123.4568|2005-09-21|     AD_VP| 17000|          NULL|       100|           90|     18000|\n",
      "|        102|        Lex|  De Haan| LDEHAAN|515.123.4569|2001-01-13|     AD_VP| 17000|          NULL|       100|           90|     18000|\n",
      "|        103|  Alexander|   Hunold| AHUNOLD|590.423.4567|2006-01-03|   IT_PROG|  9000|          NULL|       102|           60|     10000|\n",
      "|        104|      Bruce|    Ernst|  BERNST|590.423.4568|2007-05-21|   IT_PROG|  6000|          NULL|       103|           60|      7000|\n",
      "|        105|      David|   Austin| DAUSTIN|590.423.4569|2005-06-25|   IT_PROG|  4800|          NULL|       103|           60|      5800|\n",
      "|        106|      Valli|Pataballa|VPATABAL|590.423.4560|2006-02-05|   IT_PROG|  4800|          NULL|       103|           60|      5800|\n",
      "|        107|      Diana|  Lorentz|DLORENTZ|590.423.5567|2007-02-07|   IT_PROG|  4200|          NULL|       103|           60|      5200|\n",
      "|        108|      Nancy|Greenberg|NGREENBE|515.124.4569|2002-08-17|    FI_MGR| 12008|          NULL|       101|          100|     13008|\n",
      "|        109|     Daniel|   Faviet| DFAVIET|515.124.4169|2002-08-16|FI_ACCOUNT|  9000|          NULL|       108|          100|     10000|\n",
      "|        110|       John|     Chen|   JCHEN|515.124.4269|2005-09-28|FI_ACCOUNT|  8200|          NULL|       108|          100|      9200|\n",
      "|        111|     Ismael|  Sciarra|ISCIARRA|515.124.4369|2005-09-30|FI_ACCOUNT|  7700|          NULL|       108|          100|      8700|\n",
      "|        112|Jose Manuel|    Urman| JMURMAN|515.124.4469|2006-03-07|FI_ACCOUNT|  7800|          NULL|       108|          100|      8800|\n",
      "|        113|       Luis|     Popp|   LPOPP|515.124.4567|2007-12-07|FI_ACCOUNT|  6900|          NULL|       108|          100|      7900|\n",
      "|        114|        Den| Raphaely|DRAPHEAL|515.127.4561|2002-12-07|    PU_MAN| 11000|          NULL|       100|           30|     12000|\n",
      "|        115|  Alexander|     Khoo|   AKHOO|515.127.4562|2003-05-18|  PU_CLERK|  3100|          NULL|       114|           30|      4100|\n",
      "|        116|     Shelli|    Baida|  SBAIDA|515.127.4563|2005-12-24|  PU_CLERK|  2900|          NULL|       114|           30|      3900|\n",
      "|        117|      Sigal|   Tobias| STOBIAS|515.127.4564|2005-07-24|  PU_CLERK|  2800|          NULL|       114|           30|      3800|\n",
      "|        118|        Guy|   Himuro| GHIMURO|515.127.4565|2006-11-15|  PU_CLERK|  2600|          NULL|       114|           30|      3600|\n",
      "+-----------+-----------+---------+--------+------------+----------+----------+------+--------------+----------+-------------+----------+\n",
      "\n"
     ]
    }
   ],
   "source": [
    "df1.na.drop(how='all').show()"
   ]
  },
  {
   "cell_type": "code",
   "execution_count": 18,
   "metadata": {},
   "outputs": [
    {
     "name": "stdout",
     "output_type": "stream",
     "text": [
      "+-----------+-----------+---------+--------+------------+----------+----------+------+--------------+----------+-------------+----------+\n",
      "|EMPLOYEE_ID| FIRST_NAME|LAST_NAME|   EMAIL|PHONE_NUMBER| HIRE_DATE|    JOB_ID|SALARY|COMMISSION_PCT|MANAGER_ID|DEPARTMENT_ID|SAL_PREDIC|\n",
      "+-----------+-----------+---------+--------+------------+----------+----------+------+--------------+----------+-------------+----------+\n",
      "|        101|      Neena|  Kochhar|NKOCHHAR|515.123.4568|2005-09-21|     AD_VP| 17000|          NULL|       100|           90|     18000|\n",
      "|        102|        Lex|  De Haan| LDEHAAN|515.123.4569|2001-01-13|     AD_VP| 17000|          NULL|       100|           90|     18000|\n",
      "|        103|  Alexander|   Hunold| AHUNOLD|590.423.4567|2006-01-03|   IT_PROG|  9000|          NULL|       102|           60|     10000|\n",
      "|        104|      Bruce|    Ernst|  BERNST|590.423.4568|2007-05-21|   IT_PROG|  6000|          NULL|       103|           60|      7000|\n",
      "|        105|      David|   Austin| DAUSTIN|590.423.4569|2005-06-25|   IT_PROG|  4800|          NULL|       103|           60|      5800|\n",
      "|        106|      Valli|Pataballa|VPATABAL|590.423.4560|2006-02-05|   IT_PROG|  4800|          NULL|       103|           60|      5800|\n",
      "|        107|      Diana|  Lorentz|DLORENTZ|590.423.5567|2007-02-07|   IT_PROG|  4200|          NULL|       103|           60|      5200|\n",
      "|        108|      Nancy|Greenberg|NGREENBE|515.124.4569|2002-08-17|    FI_MGR| 12008|          NULL|       101|          100|     13008|\n",
      "|        109|     Daniel|   Faviet| DFAVIET|515.124.4169|2002-08-16|FI_ACCOUNT|  9000|          NULL|       108|          100|     10000|\n",
      "|        110|       John|     Chen|   JCHEN|515.124.4269|2005-09-28|FI_ACCOUNT|  8200|          NULL|       108|          100|      9200|\n",
      "|        111|     Ismael|  Sciarra|ISCIARRA|515.124.4369|2005-09-30|FI_ACCOUNT|  7700|          NULL|       108|          100|      8700|\n",
      "|        112|Jose Manuel|    Urman| JMURMAN|515.124.4469|2006-03-07|FI_ACCOUNT|  7800|          NULL|       108|          100|      8800|\n",
      "|        113|       Luis|     Popp|   LPOPP|515.124.4567|2007-12-07|FI_ACCOUNT|  6900|          NULL|       108|          100|      7900|\n",
      "|        114|        Den| Raphaely|DRAPHEAL|515.127.4561|2002-12-07|    PU_MAN| 11000|          NULL|       100|           30|     12000|\n",
      "|        115|  Alexander|     Khoo|   AKHOO|515.127.4562|2003-05-18|  PU_CLERK|  3100|          NULL|       114|           30|      4100|\n",
      "|        116|     Shelli|    Baida|  SBAIDA|515.127.4563|2005-12-24|  PU_CLERK|  2900|          NULL|       114|           30|      3900|\n",
      "|        117|      Sigal|   Tobias| STOBIAS|515.127.4564|2005-07-24|  PU_CLERK|  2800|          NULL|       114|           30|      3800|\n",
      "|        118|        Guy|   Himuro| GHIMURO|515.127.4565|2006-11-15|  PU_CLERK|  2600|          NULL|       114|           30|      3600|\n",
      "+-----------+-----------+---------+--------+------------+----------+----------+------+--------------+----------+-------------+----------+\n",
      "\n"
     ]
    }
   ],
   "source": [
    "df1.na.drop(how='any',thresh=11).show()"
   ]
  },
  {
   "cell_type": "code",
   "execution_count": 19,
   "metadata": {},
   "outputs": [
    {
     "name": "stdout",
     "output_type": "stream",
     "text": [
      "+-----------+----------+---------+--------+------------+----------+-------+------+--------------+----------+-------------+----------+\n",
      "|EMPLOYEE_ID|FIRST_NAME|LAST_NAME|   EMAIL|PHONE_NUMBER| HIRE_DATE| JOB_ID|SALARY|COMMISSION_PCT|MANAGER_ID|DEPARTMENT_ID|SAL_PREDIC|\n",
      "+-----------+----------+---------+--------+------------+----------+-------+------+--------------+----------+-------------+----------+\n",
      "|        100|    Steven|     King|   SKING|515.123.4567|2003-06-17|AD_PRES| 24000|          NULL|      NULL|           90|     25000|\n",
      "|        101|     Neena|  Kochhar|NKOCHHAR|515.123.4568|2005-09-21|  AD_VP| 17000|          NULL|       100|           90|     18000|\n",
      "|        102|       Lex|  De Haan| LDEHAAN|515.123.4569|2001-01-13|  AD_VP| 17000|          NULL|       100|           90|     18000|\n",
      "|        108|     Nancy|Greenberg|NGREENBE|515.124.4569|2002-08-17| FI_MGR| 12008|          NULL|       101|          100|     13008|\n",
      "|        114|       Den| Raphaely|DRAPHEAL|515.127.4561|2002-12-07| PU_MAN| 11000|          NULL|       100|           30|     12000|\n",
      "+-----------+----------+---------+--------+------------+----------+-------+------+--------------+----------+-------------+----------+\n",
      "\n"
     ]
    }
   ],
   "source": [
    "df1.filter('SALARY>10000').show()"
   ]
  },
  {
   "cell_type": "code",
   "execution_count": 20,
   "metadata": {},
   "outputs": [
    {
     "name": "stdout",
     "output_type": "stream",
     "text": [
      "+-----------+----------+---------+-----+------------+----------+-------+------+--------------+----------+-------------+----------+\n",
      "|EMPLOYEE_ID|FIRST_NAME|LAST_NAME|EMAIL|PHONE_NUMBER| HIRE_DATE| JOB_ID|SALARY|COMMISSION_PCT|MANAGER_ID|DEPARTMENT_ID|SAL_PREDIC|\n",
      "+-----------+----------+---------+-----+------------+----------+-------+------+--------------+----------+-------------+----------+\n",
      "|        100|    Steven|     King|SKING|515.123.4567|2003-06-17|AD_PRES| 24000|          NULL|      NULL|           90|     25000|\n",
      "+-----------+----------+---------+-----+------------+----------+-------+------+--------------+----------+-------------+----------+\n",
      "\n"
     ]
    }
   ],
   "source": [
    "df1.filter( ( df1['SALARY']>10000 ) & ( df1['JOB_ID']=='AD_PRES' )).show()"
   ]
  },
  {
   "cell_type": "code",
   "execution_count": 21,
   "metadata": {},
   "outputs": [
    {
     "name": "stdout",
     "output_type": "stream",
     "text": [
      "+-----------+----------+---------+--------+------------+----------+------+------+--------------+----------+-------------+----------+\n",
      "|EMPLOYEE_ID|FIRST_NAME|LAST_NAME|   EMAIL|PHONE_NUMBER| HIRE_DATE|JOB_ID|SALARY|COMMISSION_PCT|MANAGER_ID|DEPARTMENT_ID|SAL_PREDIC|\n",
      "+-----------+----------+---------+--------+------------+----------+------+------+--------------+----------+-------------+----------+\n",
      "|        101|     Neena|  Kochhar|NKOCHHAR|515.123.4568|2005-09-21| AD_VP| 17000|          NULL|       100|           90|     18000|\n",
      "|        102|       Lex|  De Haan| LDEHAAN|515.123.4569|2001-01-13| AD_VP| 17000|          NULL|       100|           90|     18000|\n",
      "|        108|     Nancy|Greenberg|NGREENBE|515.124.4569|2002-08-17|FI_MGR| 12008|          NULL|       101|          100|     13008|\n",
      "|        114|       Den| Raphaely|DRAPHEAL|515.127.4561|2002-12-07|PU_MAN| 11000|          NULL|       100|           30|     12000|\n",
      "+-----------+----------+---------+--------+------------+----------+------+------+--------------+----------+-------------+----------+\n",
      "\n"
     ]
    }
   ],
   "source": [
    "df1.filter( (df1['SALARY'] > 10000) & ~(df1['JOB_ID'] == 'AD_PRES' )).show()"
   ]
  },
  {
   "cell_type": "code",
   "execution_count": 23,
   "metadata": {},
   "outputs": [
    {
     "name": "stdout",
     "output_type": "stream",
     "text": [
      "+-------------+----------+----------------+-----------+---------------+------------------+---------------+\n",
      "|DEPARTMENT_ID|    JOB_ID|sum(EMPLOYEE_ID)|sum(SALARY)|sum(MANAGER_ID)|sum(DEPARTMENT_ID)|sum(SAL_PREDIC)|\n",
      "+-------------+----------+----------------+-----------+---------------+------------------+---------------+\n",
      "|           90|   AD_PRES|             100|      24000|           NULL|                90|          25000|\n",
      "|           30|    PU_MAN|             114|      11000|            100|                30|          12000|\n",
      "|           60|   IT_PROG|             525|      28800|            514|               300|          33800|\n",
      "|           30|  PU_CLERK|             466|      11400|            456|               120|          15400|\n",
      "|           90|     AD_VP|             203|      34000|            200|               180|          36000|\n",
      "|          100|FI_ACCOUNT|             555|      39600|            540|               500|          44600|\n",
      "|          100|    FI_MGR|             108|      12008|            101|               100|          13008|\n",
      "+-------------+----------+----------------+-----------+---------------+------------------+---------------+\n",
      "\n"
     ]
    }
   ],
   "source": [
    "df1.groupBy('DEPARTMENT_ID','JOB_ID').sum().show()"
   ]
  },
  {
   "cell_type": "code",
   "execution_count": 26,
   "metadata": {},
   "outputs": [
    {
     "name": "stdout",
     "output_type": "stream",
     "text": [
      "+-----------+\n",
      "|sum(SALARY)|\n",
      "+-----------+\n",
      "|     160808|\n",
      "+-----------+\n",
      "\n"
     ]
    }
   ],
   "source": [
    "df1.agg({'SALARY' : 'sum'}).show()"
   ]
  },
  {
   "cell_type": "code",
   "execution_count": null,
   "metadata": {},
   "outputs": [],
   "source": [
    "#ML codes"
   ]
  },
  {
   "cell_type": "code",
   "execution_count": null,
   "metadata": {},
   "outputs": [],
   "source": []
  }
 ],
 "metadata": {
  "kernelspec": {
   "display_name": "Python 3",
   "language": "python",
   "name": "python3"
  },
  "language_info": {
   "codemirror_mode": {
    "name": "ipython",
    "version": 3
   },
   "file_extension": ".py",
   "mimetype": "text/x-python",
   "name": "python",
   "nbconvert_exporter": "python",
   "pygments_lexer": "ipython3",
   "version": "3.11.8"
  }
 },
 "nbformat": 4,
 "nbformat_minor": 2
}
