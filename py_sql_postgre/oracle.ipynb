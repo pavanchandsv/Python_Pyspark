{
 "cells": [
  {
   "cell_type": "code",
   "execution_count": 1,
   "metadata": {},
   "outputs": [
    {
     "name": "stdout",
     "output_type": "stream",
     "text": [
      "Collecting oracledb\n",
      "  Downloading oracledb-2.1.1-cp311-cp311-win_amd64.whl.metadata (5.3 kB)\n",
      "Collecting cryptography>=3.2.1 (from oracledb)\n",
      "  Using cached cryptography-42.0.5-cp39-abi3-win_amd64.whl.metadata (5.4 kB)\n",
      "Collecting cffi>=1.12 (from cryptography>=3.2.1->oracledb)\n",
      "  Using cached cffi-1.16.0-cp311-cp311-win_amd64.whl.metadata (1.5 kB)\n",
      "Collecting pycparser (from cffi>=1.12->cryptography>=3.2.1->oracledb)\n",
      "  Downloading pycparser-2.22-py3-none-any.whl.metadata (943 bytes)\n",
      "Downloading oracledb-2.1.1-cp311-cp311-win_amd64.whl (1.6 MB)\n",
      "   ---------------------------------------- 0.0/1.6 MB ? eta -:--:--\n",
      "   ---------------------------------------- 0.0/1.6 MB ? eta -:--:--\n",
      "    --------------------------------------- 0.0/1.6 MB 487.6 kB/s eta 0:00:04\n",
      "   -- ------------------------------------- 0.1/1.6 MB 1.0 MB/s eta 0:00:02\n",
      "   ------ --------------------------------- 0.3/1.6 MB 1.4 MB/s eta 0:00:01\n",
      "   ------- -------------------------------- 0.3/1.6 MB 1.8 MB/s eta 0:00:01\n",
      "   -------------- ------------------------- 0.6/1.6 MB 2.4 MB/s eta 0:00:01\n",
      "   ----------------- ---------------------- 0.7/1.6 MB 2.2 MB/s eta 0:00:01\n",
      "   ---------------------- ----------------- 0.9/1.6 MB 2.6 MB/s eta 0:00:01\n",
      "   --------------------------- ------------ 1.1/1.6 MB 2.8 MB/s eta 0:00:01\n",
      "   --------------------------- ------------ 1.1/1.6 MB 2.8 MB/s eta 0:00:01\n",
      "   ------------------------------------- -- 1.6/1.6 MB 3.2 MB/s eta 0:00:01\n",
      "   ---------------------------------------- 1.6/1.6 MB 3.1 MB/s eta 0:00:00\n",
      "Using cached cryptography-42.0.5-cp39-abi3-win_amd64.whl (2.9 MB)\n",
      "Using cached cffi-1.16.0-cp311-cp311-win_amd64.whl (181 kB)\n",
      "Downloading pycparser-2.22-py3-none-any.whl (117 kB)\n",
      "   ---------------------------------------- 0.0/117.6 kB ? eta -:--:--\n",
      "   ---------------------------------------- 117.6/117.6 kB 3.5 MB/s eta 0:00:00\n",
      "Installing collected packages: pycparser, cffi, cryptography, oracledb\n",
      "Successfully installed cffi-1.16.0 cryptography-42.0.5 oracledb-2.1.1 pycparser-2.22\n",
      "Note: you may need to restart the kernel to use updated packages.\n"
     ]
    }
   ],
   "source": [
    "pip install oracledb"
   ]
  },
  {
   "cell_type": "code",
   "execution_count": 2,
   "metadata": {},
   "outputs": [],
   "source": [
    "import oracledb\n",
    "import getpass"
   ]
  },
  {
   "cell_type": "code",
   "execution_count": 7,
   "metadata": {},
   "outputs": [
    {
     "ename": "OperationalError",
     "evalue": "DPY-6005: cannot connect to database (CONNECTION_ID=u40Af4/1gpW7jpm65K6/FA==).\nDPY-3010: connections to this database server version are not supported by python-oracledb in thin mode\nHelp: https://python-oracledb.readthedocs.io/en/latest/user_guide/troubleshooting.html#dpy-3010",
     "output_type": "error",
     "traceback": [
      "\u001b[1;31m---------------------------------------------------------------------------\u001b[0m",
      "\u001b[1;31mNotSupportedError\u001b[0m                         Traceback (most recent call last)",
      "File \u001b[1;32msrc\\\\oracledb\\\\impl/thin/connection.pyx:279\u001b[0m, in \u001b[0;36moracledb.thin_impl.ThinConnImpl._connect_with_address\u001b[1;34m()\u001b[0m\n",
      "File \u001b[1;32msrc\\\\oracledb\\\\impl/thin/protocol.pyx:241\u001b[0m, in \u001b[0;36moracledb.thin_impl.Protocol._connect_phase_one\u001b[1;34m()\u001b[0m\n",
      "File \u001b[1;32msrc\\\\oracledb\\\\impl/thin/protocol.pyx:399\u001b[0m, in \u001b[0;36moracledb.thin_impl.Protocol._process_message\u001b[1;34m()\u001b[0m\n",
      "File \u001b[1;32msrc\\\\oracledb\\\\impl/thin/protocol.pyx:378\u001b[0m, in \u001b[0;36moracledb.thin_impl.Protocol._process_message\u001b[1;34m()\u001b[0m\n",
      "File \u001b[1;32msrc\\\\oracledb\\\\impl/thin/messages.pyx:1841\u001b[0m, in \u001b[0;36moracledb.thin_impl.ConnectMessage.process\u001b[1;34m()\u001b[0m\n",
      "File \u001b[1;32m~\\AppData\\Local\\Packages\\PythonSoftwareFoundation.Python.3.11_qbz5n2kfra8p0\\LocalCache\\local-packages\\Python311\\site-packages\\oracledb\\errors.py:181\u001b[0m, in \u001b[0;36m_raise_err\u001b[1;34m(error_num, context_error_message, cause, **args)\u001b[0m\n\u001b[0;32m    180\u001b[0m error \u001b[38;5;241m=\u001b[39m _Error(message)\n\u001b[1;32m--> 181\u001b[0m \u001b[38;5;28;01mraise\u001b[39;00m error\u001b[38;5;241m.\u001b[39mexc_type(error) \u001b[38;5;28;01mfrom\u001b[39;00m \u001b[38;5;21;01mcause\u001b[39;00m\n",
      "\u001b[1;31mNotSupportedError\u001b[0m: DPY-3010: connections to this database server version are not supported by python-oracledb in thin mode\nHelp: https://python-oracledb.readthedocs.io/en/latest/user_guide/troubleshooting.html#dpy-3010",
      "\nThe above exception was the direct cause of the following exception:\n",
      "\u001b[1;31mOperationalError\u001b[0m                          Traceback (most recent call last)",
      "Cell \u001b[1;32mIn[7], line 1\u001b[0m\n\u001b[1;32m----> 1\u001b[0m connection \u001b[38;5;241m=\u001b[39m \u001b[43moracledb\u001b[49m\u001b[38;5;241;43m.\u001b[39;49m\u001b[43mconnect\u001b[49m\u001b[43m(\u001b[49m\n\u001b[0;32m      2\u001b[0m \u001b[43m    \u001b[49m\u001b[43muser\u001b[49m\u001b[38;5;241;43m=\u001b[39;49m\u001b[38;5;124;43m\"\u001b[39;49m\u001b[38;5;124;43mcore\u001b[39;49m\u001b[38;5;124;43m\"\u001b[39;49m\u001b[43m,\u001b[49m\n\u001b[0;32m      3\u001b[0m \u001b[43m    \u001b[49m\u001b[43mpassword\u001b[49m\u001b[38;5;241;43m=\u001b[39;49m\u001b[38;5;124;43m\"\u001b[39;49m\u001b[38;5;124;43mcore\u001b[39;49m\u001b[38;5;124;43m\"\u001b[39;49m\u001b[43m,\u001b[49m\n\u001b[0;32m      4\u001b[0m \u001b[43m     \u001b[49m\u001b[43mhost\u001b[49m\u001b[38;5;241;43m=\u001b[39;49m\u001b[38;5;124;43m\"\u001b[39;49m\u001b[38;5;124;43mlocalhost\u001b[39;49m\u001b[38;5;124;43m\"\u001b[39;49m\u001b[43m,\u001b[49m\u001b[43m \u001b[49m\u001b[43mport\u001b[49m\u001b[38;5;241;43m=\u001b[39;49m\u001b[38;5;241;43m1521\u001b[39;49m\u001b[43m,\u001b[49m\u001b[43m \u001b[49m\u001b[43mservice_name\u001b[49m\u001b[38;5;241;43m=\u001b[39;49m\u001b[38;5;124;43m\"\u001b[39;49m\u001b[38;5;124;43mxe\u001b[39;49m\u001b[38;5;124;43m\"\u001b[39;49m\u001b[43m)\u001b[49m\n",
      "File \u001b[1;32m~\\AppData\\Local\\Packages\\PythonSoftwareFoundation.Python.3.11_qbz5n2kfra8p0\\LocalCache\\local-packages\\Python311\\site-packages\\oracledb\\connection.py:1158\u001b[0m, in \u001b[0;36m_connection_factory.<locals>.connect\u001b[1;34m(dsn, pool, conn_class, params, **kwargs)\u001b[0m\n\u001b[0;32m   1156\u001b[0m     message \u001b[38;5;241m=\u001b[39m \u001b[38;5;124m\"\u001b[39m\u001b[38;5;124mpool must be an instance of oracledb.ConnectionPool\u001b[39m\u001b[38;5;124m\"\u001b[39m\n\u001b[0;32m   1157\u001b[0m     \u001b[38;5;28;01mraise\u001b[39;00m \u001b[38;5;167;01mTypeError\u001b[39;00m(message)\n\u001b[1;32m-> 1158\u001b[0m \u001b[38;5;28;01mreturn\u001b[39;00m \u001b[43mconn_class\u001b[49m\u001b[43m(\u001b[49m\u001b[43mdsn\u001b[49m\u001b[38;5;241;43m=\u001b[39;49m\u001b[43mdsn\u001b[49m\u001b[43m,\u001b[49m\u001b[43m \u001b[49m\u001b[43mpool\u001b[49m\u001b[38;5;241;43m=\u001b[39;49m\u001b[43mpool\u001b[49m\u001b[43m,\u001b[49m\u001b[43m \u001b[49m\u001b[43mparams\u001b[49m\u001b[38;5;241;43m=\u001b[39;49m\u001b[43mparams\u001b[49m\u001b[43m,\u001b[49m\u001b[43m \u001b[49m\u001b[38;5;241;43m*\u001b[39;49m\u001b[38;5;241;43m*\u001b[39;49m\u001b[43mkwargs\u001b[49m\u001b[43m)\u001b[49m\n",
      "File \u001b[1;32m~\\AppData\\Local\\Packages\\PythonSoftwareFoundation.Python.3.11_qbz5n2kfra8p0\\LocalCache\\local-packages\\Python311\\site-packages\\oracledb\\connection.py:541\u001b[0m, in \u001b[0;36mConnection.__init__\u001b[1;34m(self, dsn, pool, params, **kwargs)\u001b[0m\n\u001b[0;32m    539\u001b[0m     \u001b[38;5;28;01melse\u001b[39;00m:\n\u001b[0;32m    540\u001b[0m         impl \u001b[38;5;241m=\u001b[39m thin_impl\u001b[38;5;241m.\u001b[39mThinConnImpl(dsn, params_impl)\n\u001b[1;32m--> 541\u001b[0m         \u001b[43mimpl\u001b[49m\u001b[38;5;241;43m.\u001b[39;49m\u001b[43mconnect\u001b[49m\u001b[43m(\u001b[49m\u001b[43mparams_impl\u001b[49m\u001b[43m)\u001b[49m\n\u001b[0;32m    542\u001b[0m \u001b[38;5;28;01melse\u001b[39;00m:\n\u001b[0;32m    543\u001b[0m     impl \u001b[38;5;241m=\u001b[39m thick_impl\u001b[38;5;241m.\u001b[39mThickConnImpl(dsn, params_impl)\n",
      "File \u001b[1;32msrc\\\\oracledb\\\\impl/thin/connection.pyx:381\u001b[0m, in \u001b[0;36moracledb.thin_impl.ThinConnImpl.connect\u001b[1;34m()\u001b[0m\n",
      "File \u001b[1;32msrc\\\\oracledb\\\\impl/thin/connection.pyx:377\u001b[0m, in \u001b[0;36moracledb.thin_impl.ThinConnImpl.connect\u001b[1;34m()\u001b[0m\n",
      "File \u001b[1;32msrc\\\\oracledb\\\\impl/thin/connection.pyx:337\u001b[0m, in \u001b[0;36moracledb.thin_impl.ThinConnImpl._connect_with_params\u001b[1;34m()\u001b[0m\n",
      "File \u001b[1;32msrc\\\\oracledb\\\\impl/thin/connection.pyx:318\u001b[0m, in \u001b[0;36moracledb.thin_impl.ThinConnImpl._connect_with_description\u001b[1;34m()\u001b[0m\n",
      "File \u001b[1;32msrc\\\\oracledb\\\\impl/thin/connection.pyx:284\u001b[0m, in \u001b[0;36moracledb.thin_impl.ThinConnImpl._connect_with_address\u001b[1;34m()\u001b[0m\n",
      "File \u001b[1;32m~\\AppData\\Local\\Packages\\PythonSoftwareFoundation.Python.3.11_qbz5n2kfra8p0\\LocalCache\\local-packages\\Python311\\site-packages\\oracledb\\errors.py:181\u001b[0m, in \u001b[0;36m_raise_err\u001b[1;34m(error_num, context_error_message, cause, **args)\u001b[0m\n\u001b[0;32m    179\u001b[0m     message \u001b[38;5;241m=\u001b[39m \u001b[38;5;124mf\u001b[39m\u001b[38;5;124m\"\u001b[39m\u001b[38;5;132;01m{\u001b[39;00mmessage\u001b[38;5;132;01m}\u001b[39;00m\u001b[38;5;130;01m\\n\u001b[39;00m\u001b[38;5;132;01m{\u001b[39;00mcontext_error_message\u001b[38;5;132;01m}\u001b[39;00m\u001b[38;5;124m\"\u001b[39m\n\u001b[0;32m    180\u001b[0m error \u001b[38;5;241m=\u001b[39m _Error(message)\n\u001b[1;32m--> 181\u001b[0m \u001b[38;5;28;01mraise\u001b[39;00m error\u001b[38;5;241m.\u001b[39mexc_type(error) \u001b[38;5;28;01mfrom\u001b[39;00m \u001b[38;5;21;01mcause\u001b[39;00m\n",
      "\u001b[1;31mOperationalError\u001b[0m: DPY-6005: cannot connect to database (CONNECTION_ID=u40Af4/1gpW7jpm65K6/FA==).\nDPY-3010: connections to this database server version are not supported by python-oracledb in thin mode\nHelp: https://python-oracledb.readthedocs.io/en/latest/user_guide/troubleshooting.html#dpy-3010"
     ]
    }
   ],
   "source": [
    "\n",
    "\n",
    "connection = oracledb.connect(\n",
    "    user=\"core\",\n",
    "    password=\"core\",\n",
    "     host=\"localhost\", port=1521, service_name=\"xe\")"
   ]
  }
 ],
 "metadata": {
  "kernelspec": {
   "display_name": "Python 3",
   "language": "python",
   "name": "python3"
  },
  "language_info": {
   "codemirror_mode": {
    "name": "ipython",
    "version": 3
   },
   "file_extension": ".py",
   "mimetype": "text/x-python",
   "name": "python",
   "nbconvert_exporter": "python",
   "pygments_lexer": "ipython3",
   "version": "3.11.9"
  }
 },
 "nbformat": 4,
 "nbformat_minor": 2
}
