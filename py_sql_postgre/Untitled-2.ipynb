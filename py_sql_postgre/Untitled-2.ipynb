{
 "cells": [
  {
   "cell_type": "code",
   "execution_count": 1,
   "metadata": {},
   "outputs": [
    {
     "name": "stderr",
     "output_type": "stream",
     "text": [
      "C:\\Users\\pavan\\AppData\\Local\\Temp\\ipykernel_18380\\2798084399.py:2: DeprecationWarning: \n",
      "Pyarrow will become a required dependency of pandas in the next major release of pandas (pandas 3.0),\n",
      "(to allow more performant data types, such as the Arrow string type, and better interoperability with other libraries)\n",
      "but was not found to be installed on your system.\n",
      "If this would cause problems for you,\n",
      "please provide us feedback at https://github.com/pandas-dev/pandas/issues/54466\n",
      "        \n",
      "  import pandas as pd\n"
     ]
    }
   ],
   "source": [
    "import psycopg2\n",
    "import pandas as pd\n",
    "import io"
   ]
  },
  {
   "cell_type": "code",
   "execution_count": 2,
   "metadata": {},
   "outputs": [],
   "source": [
    "path=r'D:\\CODES\\FlatFiles\\emp_csv\\EMP.csv'\n",
    "df=pd.read_csv(path)"
   ]
  },
  {
   "cell_type": "code",
   "execution_count": 3,
   "metadata": {},
   "outputs": [
    {
     "data": {
      "text/plain": [
       "EMPLOYEE_ID         int64\n",
       "FIRST_NAME         object\n",
       "LAST_NAME          object\n",
       "EMAIL              object\n",
       "PHONE_NUMBER       object\n",
       "HIRE_DATE          object\n",
       "JOB_ID             object\n",
       "SALARY              int64\n",
       "COMMISSION_PCT    float64\n",
       "MANAGER_ID        float64\n",
       "DEPARTMENT_ID       int64\n",
       "dtype: object"
      ]
     },
     "execution_count": 3,
     "metadata": {},
     "output_type": "execute_result"
    }
   ],
   "source": [
    "df.dtypes"
   ]
  },
  {
   "cell_type": "code",
   "execution_count": 4,
   "metadata": {},
   "outputs": [],
   "source": [
    "postgres_data_types = {\n",
    "    'int64': 'INTEGER',\n",
    "    'float64': 'FLOAT',\n",
    "    'object': 'TEXT',\n",
    "    # Add mappings for other data types as needed\n",
    "}"
   ]
  },
  {
   "cell_type": "code",
   "execution_count": 5,
   "metadata": {},
   "outputs": [],
   "source": [
    "table_name = 'postgres_emp'"
   ]
  },
  {
   "cell_type": "code",
   "execution_count": 8,
   "metadata": {},
   "outputs": [],
   "source": [
    "columns = ', '.join([f\"{col} {postgres_data_types[df[col].dtype.name]}\" for col in df.columns])"
   ]
  },
  {
   "cell_type": "code",
   "execution_count": 10,
   "metadata": {},
   "outputs": [
    {
     "data": {
      "text/plain": [
       "'CREATE TABLE postgres_emp (EMPLOYEE_ID INTEGER, FIRST_NAME TEXT, LAST_NAME TEXT, EMAIL TEXT, PHONE_NUMBER TEXT, HIRE_DATE TEXT, JOB_ID TEXT, SALARY INTEGER, COMMISSION_PCT FLOAT, MANAGER_ID FLOAT, DEPARTMENT_ID INTEGER)'"
      ]
     },
     "execution_count": 10,
     "metadata": {},
     "output_type": "execute_result"
    }
   ],
   "source": [
    "create_table_statement = f\"CREATE TABLE {table_name} ({columns})\"\n",
    "create_table_statement"
   ]
  },
  {
   "cell_type": "code",
   "execution_count": 39,
   "metadata": {},
   "outputs": [
    {
     "name": "stdout",
     "output_type": "stream",
     "text": [
      "connected to DB)\n"
     ]
    }
   ],
   "source": [
    "try: \n",
    "    conn = psycopg2.connect(\"host=localhost port=5433 dbname=postgres user=postgres password=password\")\n",
    "    print(\"connected to DB)\")\n",
    "except psycopg2.Error as e: \n",
    "    print(\"Error: Could not make connection to the Postgres database\")\n",
    "    print(e)"
   ]
  },
  {
   "cell_type": "code",
   "execution_count": 40,
   "metadata": {},
   "outputs": [],
   "source": [
    "cur=conn.cursor()"
   ]
  },
  {
   "cell_type": "code",
   "execution_count": 13,
   "metadata": {},
   "outputs": [],
   "source": [
    "cur.execute(create_table_statement)"
   ]
  },
  {
   "cell_type": "code",
   "execution_count": 47,
   "metadata": {},
   "outputs": [],
   "source": [
    "conn.commit()"
   ]
  },
  {
   "cell_type": "code",
   "execution_count": 6,
   "metadata": {},
   "outputs": [],
   "source": [
    "output = io.StringIO()"
   ]
  },
  {
   "cell_type": "code",
   "execution_count": 7,
   "metadata": {},
   "outputs": [
    {
     "data": {
      "text/plain": [
       "<_io.StringIO at 0x1dc5c0924d0>"
      ]
     },
     "execution_count": 7,
     "metadata": {},
     "output_type": "execute_result"
    }
   ],
   "source": [
    "output"
   ]
  },
  {
   "cell_type": "code",
   "execution_count": 8,
   "metadata": {},
   "outputs": [],
   "source": [
    "df.to_csv(output, sep='\\t', header=False, index=False)"
   ]
  },
  {
   "cell_type": "code",
   "execution_count": 9,
   "metadata": {},
   "outputs": [
    {
     "data": {
      "text/plain": [
       "0"
      ]
     },
     "execution_count": 9,
     "metadata": {},
     "output_type": "execute_result"
    }
   ],
   "source": [
    "output.seek(0)"
   ]
  },
  {
   "cell_type": "code",
   "execution_count": 10,
   "metadata": {},
   "outputs": [],
   "source": [
    "contents =output.getvalue()"
   ]
  },
  {
   "cell_type": "code",
   "execution_count": 11,
   "metadata": {},
   "outputs": [
    {
     "data": {
      "text/plain": [
       "'100\\tSteven\\tKing\\tSKING\\t515.123.4567\\t2003-06-17\\tAD_PRES\\t24000\\t\\t\\t90\\r\\n101\\tNeena\\tKochhar\\tNKOCHHAR\\t515.123.4568\\t2005-09-21\\tAD_VP\\t17000\\t\\t100.0\\t90\\r\\n102\\tLex\\tDe Haan\\tLDEHAAN\\t515.123.4569\\t2001-01-13\\tAD_VP\\t17000\\t\\t100.0\\t90\\r\\n103\\tAlexander\\tHunold\\tAHUNOLD\\t590.423.4567\\t2006-01-03\\tIT_PROG\\t9000\\t\\t102.0\\t60\\r\\n104\\tBruce\\tErnst\\tBERNST\\t590.423.4568\\t2007-05-21\\tIT_PROG\\t6000\\t\\t103.0\\t60\\r\\n105\\tDavid\\tAustin\\tDAUSTIN\\t590.423.4569\\t2005-06-25\\tIT_PROG\\t4800\\t\\t103.0\\t60\\r\\n106\\tValli\\tPataballa\\tVPATABAL\\t590.423.4560\\t2006-02-05\\tIT_PROG\\t4800\\t\\t103.0\\t60\\r\\n107\\tDiana\\tLorentz\\tDLORENTZ\\t590.423.5567\\t2007-02-07\\tIT_PROG\\t4200\\t\\t103.0\\t60\\r\\n108\\tNancy\\tGreenberg\\tNGREENBE\\t515.124.4569\\t2002-08-17\\tFI_MGR\\t12008\\t\\t101.0\\t100\\r\\n109\\tDaniel\\tFaviet\\tDFAVIET\\t515.124.4169\\t2002-08-16\\tFI_ACCOUNT\\t9000\\t\\t108.0\\t100\\r\\n110\\tJohn\\tChen\\tJCHEN\\t515.124.4269\\t2005-09-28\\tFI_ACCOUNT\\t8200\\t\\t108.0\\t100\\r\\n111\\tIsmael\\tSciarra\\tISCIARRA\\t515.124.4369\\t2005-09-30\\tFI_ACCOUNT\\t7700\\t\\t108.0\\t100\\r\\n112\\tJose Manuel\\tUrman\\tJMURMAN\\t515.124.4469\\t2006-03-07\\tFI_ACCOUNT\\t7800\\t\\t108.0\\t100\\r\\n113\\tLuis\\tPopp\\tLPOPP\\t515.124.4567\\t2007-12-07\\tFI_ACCOUNT\\t6900\\t\\t108.0\\t100\\r\\n114\\tDen\\tRaphaely\\tDRAPHEAL\\t515.127.4561\\t2002-12-07\\tPU_MAN\\t11000\\t\\t100.0\\t30\\r\\n115\\tAlexander\\tKhoo\\tAKHOO\\t515.127.4562\\t2003-05-18\\tPU_CLERK\\t3100\\t\\t114.0\\t30\\r\\n116\\tShelli\\tBaida\\tSBAIDA\\t515.127.4563\\t2005-12-24\\tPU_CLERK\\t2900\\t\\t114.0\\t30\\r\\n117\\tSigal\\tTobias\\tSTOBIAS\\t515.127.4564\\t2005-07-24\\tPU_CLERK\\t2800\\t\\t114.0\\t30\\r\\n118\\tGuy\\tHimuro\\tGHIMURO\\t515.127.4565\\t2006-11-15\\tPU_CLERK\\t2600\\t\\t114.0\\t30\\r\\n'"
      ]
     },
     "execution_count": 11,
     "metadata": {},
     "output_type": "execute_result"
    }
   ],
   "source": [
    "contents"
   ]
  },
  {
   "cell_type": "code",
   "execution_count": 46,
   "metadata": {},
   "outputs": [],
   "source": [
    "cur.copy_from(output, table_name, null=\"\")"
   ]
  },
  {
   "cell_type": "code",
   "execution_count": 49,
   "metadata": {},
   "outputs": [],
   "source": [
    "conn.close()"
   ]
  },
  {
   "cell_type": "code",
   "execution_count": null,
   "metadata": {},
   "outputs": [],
   "source": []
  },
  {
   "cell_type": "code",
   "execution_count": null,
   "metadata": {},
   "outputs": [],
   "source": []
  },
  {
   "cell_type": "code",
   "execution_count": null,
   "metadata": {},
   "outputs": [],
   "source": []
  },
  {
   "cell_type": "code",
   "execution_count": 12,
   "metadata": {},
   "outputs": [],
   "source": [
    "cur.execute(\"\"\"CREATE TABLE datacamp_courses(\n",
    "            course_id SERIAL PRIMARY KEY,\n",
    "            course_name VARCHAR (50) UNIQUE NOT NULL,\n",
    "            course_instructor VARCHAR (100) NOT NULL,\n",
    "            topic VARCHAR (20) NOT NULL);\n",
    "            \"\"\")"
   ]
  },
  {
   "cell_type": "code",
   "execution_count": 13,
   "metadata": {},
   "outputs": [],
   "source": [
    "cur.execute(\"INSERT INTO datacamp_courses(course_name, course_instructor, topic) VALUES('Introduction to SQL','Izzy Weber','Julia')\");\n",
    "\n",
    "cur.execute(\"INSERT INTO datacamp_courses(course_name, course_instructor, topic) VALUES('Analyzing Survey Data in Python','EbunOluwa Andrew','Python')\");\n",
    "\n",
    "cur.execute(\"INSERT INTO datacamp_courses(course_name, course_instructor, topic) VALUES('Introduction to ChatGPT','James Chapman','Theory')\");\n",
    "\n",
    "cur.execute(\"INSERT INTO datacamp_courses(course_name, course_instructor, topic) VALUES('Introduction to Statistics in R','Maggie Matsui','R')\");\n",
    "\n",
    "cur.execute(\"INSERT INTO datacamp_courses(course_name, course_instructor, topic) VALUES('Hypothesis Testing in Python','James Chapman','Python')\");"
   ]
  },
  {
   "cell_type": "code",
   "execution_count": 19,
   "metadata": {},
   "outputs": [],
   "source": [
    "conn.commit()"
   ]
  },
  {
   "cell_type": "code",
   "execution_count": null,
   "metadata": {},
   "outputs": [],
   "source": [
    "cur.execute(\"select * from datacamp_courses\")"
   ]
  },
  {
   "cell_type": "code",
   "execution_count": null,
   "metadata": {},
   "outputs": [],
   "source": []
  },
  {
   "cell_type": "code",
   "execution_count": 18,
   "metadata": {},
   "outputs": [],
   "source": [
    "r=cur.fetchall()"
   ]
  },
  {
   "cell_type": "code",
   "execution_count": 20,
   "metadata": {},
   "outputs": [
    {
     "data": {
      "text/plain": [
       "[(1, 'Introduction to SQL', 'Izzy Weber', 'Julia'),\n",
       " (2, 'Analyzing Survey Data in Python', 'EbunOluwa Andrew', 'Python'),\n",
       " (3, 'Introduction to ChatGPT', 'James Chapman', 'Theory'),\n",
       " (4, 'Introduction to Statistics in R', 'Maggie Matsui', 'R'),\n",
       " (5, 'Hypothesis Testing in Python', 'James Chapman', 'Python')]"
      ]
     },
     "execution_count": 20,
     "metadata": {},
     "output_type": "execute_result"
    }
   ],
   "source": [
    "r"
   ]
  },
  {
   "cell_type": "code",
   "execution_count": 17,
   "metadata": {},
   "outputs": [],
   "source": [
    "df=pd.DataFrame(r)"
   ]
  },
  {
   "cell_type": "code",
   "execution_count": null,
   "metadata": {},
   "outputs": [],
   "source": [
    "df"
   ]
  },
  {
   "cell_type": "code",
   "execution_count": 3,
   "metadata": {},
   "outputs": [],
   "source": [
    "import re"
   ]
  },
  {
   "cell_type": "code",
   "execution_count": 4,
   "metadata": {},
   "outputs": [],
   "source": [
    "values = re.split(\",\",\n",
    "                          re.sub('\\r\\n', '', re.sub('\"', '', 'john,45,5000')))"
   ]
  },
  {
   "cell_type": "code",
   "execution_count": 5,
   "metadata": {},
   "outputs": [
    {
     "data": {
      "text/plain": [
       "['john', '45', '5000']"
      ]
     },
     "execution_count": 5,
     "metadata": {},
     "output_type": "execute_result"
    }
   ],
   "source": [
    "values"
   ]
  },
  {
   "cell_type": "code",
   "execution_count": 9,
   "metadata": {},
   "outputs": [],
   "source": [
    "l=zip(('name','age','salary'),values)"
   ]
  },
  {
   "cell_type": "code",
   "execution_count": null,
   "metadata": {},
   "outputs": [],
   "source": []
  },
  {
   "cell_type": "code",
   "execution_count": 17,
   "metadata": {},
   "outputs": [
    {
     "name": "stdout",
     "output_type": "stream",
     "text": [
      "('name', 'john')\n",
      "('age', '45')\n",
      "('salary', '5000')\n"
     ]
    },
    {
     "data": {
      "text/plain": [
       "[None, None, None]"
      ]
     },
     "execution_count": 17,
     "metadata": {},
     "output_type": "execute_result"
    }
   ],
   "source": [
    "list(map(lambda i : print(i),l))"
   ]
  }
 ],
 "metadata": {
  "kernelspec": {
   "display_name": "Python 3",
   "language": "python",
   "name": "python3"
  },
  "language_info": {
   "codemirror_mode": {
    "name": "ipython",
    "version": 3
   },
   "file_extension": ".py",
   "mimetype": "text/x-python",
   "name": "python",
   "nbconvert_exporter": "python",
   "pygments_lexer": "ipython3",
   "version": "3.11.9"
  }
 },
 "nbformat": 4,
 "nbformat_minor": 2
}
