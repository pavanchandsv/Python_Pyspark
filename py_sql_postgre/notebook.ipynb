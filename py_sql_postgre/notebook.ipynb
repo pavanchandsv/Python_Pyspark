{
 "cells": [
  {
   "cell_type": "code",
   "execution_count": 16,
   "metadata": {},
   "outputs": [],
   "source": [
    "f_path='D:\\CODES\\FlatFiles\\emp_csv\\EMP.csv'\n",
    "emp_scv=open(f_path,'r')\n",
    "emps=emp_scv.read()"
   ]
  },
  {
   "cell_type": "code",
   "execution_count": 23,
   "metadata": {},
   "outputs": [
    {
     "data": {
      "text/plain": [
       "str"
      ]
     },
     "execution_count": 23,
     "metadata": {},
     "output_type": "execute_result"
    }
   ],
   "source": [
    "type(emps)"
   ]
  },
  {
   "cell_type": "code",
   "execution_count": 27,
   "metadata": {},
   "outputs": [
    {
     "data": {
      "text/plain": [
       "['100,Steven,King,SKING,\"515.123.4567\",2003-06-17,AD_PRES,24000,,,90',\n",
       " '101,Neena,Kochhar,NKOCHHAR,\"515.123.4568\",2005-09-21,AD_VP,17000,,100,90',\n",
       " '102,Lex,De Haan,LDEHAAN,\"515.123.4569\",2001-01-13,AD_VP,17000,,100,90',\n",
       " '103,Alexander,Hunold,AHUNOLD,\"590.423.4567\",2006-01-03,IT_PROG,9000,,102,60',\n",
       " '104,Bruce,Ernst,BERNST,\"590.423.4568\",2007-05-21,IT_PROG,6000,,103,60',\n",
       " '105,David,Austin,DAUSTIN,\"590.423.4569\",2005-06-25,IT_PROG,4800,,103,60',\n",
       " '106,Valli,Pataballa,VPATABAL,\"590.423.4560\",2006-02-05,IT_PROG,4800,,103,60',\n",
       " '107,Diana,Lorentz,DLORENTZ,\"590.423.5567\",2007-02-07,IT_PROG,4200,,103,60',\n",
       " '108,Nancy,Greenberg,NGREENBE,\"515.124.4569\",2002-08-17,FI_MGR,12008,,101,100',\n",
       " '109,Daniel,Faviet,DFAVIET,\"515.124.4169\",2002-08-16,FI_ACCOUNT,9000,,108,100',\n",
       " '110,John,Chen,JCHEN,\"515.124.4269\",2005-09-28,FI_ACCOUNT,8200,,108,100',\n",
       " '111,Ismael,Sciarra,ISCIARRA,\"515.124.4369\",2005-09-30,FI_ACCOUNT,7700,,108,100',\n",
       " '112,Jose Manuel,Urman,JMURMAN,\"515.124.4469\",2006-03-07,FI_ACCOUNT,7800,,108,100',\n",
       " '113,Luis,Popp,LPOPP,\"515.124.4567\",2007-12-07,FI_ACCOUNT,6900,,108,100',\n",
       " '114,Den,Raphaely,DRAPHEAL,\"515.127.4561\",2002-12-07,PU_MAN,11000,,100,30',\n",
       " '115,Alexander,Khoo,AKHOO,\"515.127.4562\",2003-05-18,PU_CLERK,3100,,114,30',\n",
       " '116,Shelli,Baida,SBAIDA,\"515.127.4563\",2005-12-24,PU_CLERK,2900,,114,30',\n",
       " '117,Sigal,Tobias,STOBIAS,\"515.127.4564\",2005-07-24,PU_CLERK,2800,,114,30',\n",
       " '118,Guy,Himuro,GHIMURO,\"515.127.4565\",2006-11-15,PU_CLERK,2600,,114,30']"
      ]
     },
     "execution_count": 27,
     "metadata": {},
     "output_type": "execute_result"
    }
   ],
   "source": [
    "\n",
    "emp_list=emps.splitlines()\n",
    "emp_list\n"
   ]
  },
  {
   "cell_type": "code",
   "execution_count": 32,
   "metadata": {},
   "outputs": [
    {
     "data": {
      "text/plain": [
       "'AD_PRES'"
      ]
     },
     "execution_count": 32,
     "metadata": {},
     "output_type": "execute_result"
    }
   ],
   "source": [
    "emp_list[0].split(',')[6]"
   ]
  },
  {
   "cell_type": "code",
   "execution_count": 38,
   "metadata": {},
   "outputs": [
    {
     "data": {
      "text/plain": [
       "['100,Steven,King,SKING,\"515.123.4567\",2003-06-17,AD_PRES,24000,,,90',\n",
       " '115,Alexander,Khoo,AKHOO,\"515.127.4562\",2003-05-18,PU_CLERK,3100,,114,30',\n",
       " '116,Shelli,Baida,SBAIDA,\"515.127.4563\",2005-12-24,PU_CLERK,2900,,114,30',\n",
       " '117,Sigal,Tobias,STOBIAS,\"515.127.4564\",2005-07-24,PU_CLERK,2800,,114,30',\n",
       " '118,Guy,Himuro,GHIMURO,\"515.127.4565\",2006-11-15,PU_CLERK,2600,,114,30']"
      ]
     },
     "execution_count": 38,
     "metadata": {},
     "output_type": "execute_result"
    }
   ],
   "source": [
    "list(filter(lambda i : i.split(',')[6] in ( 'PU_CLERK','AD_PRES') , emp_list))"
   ]
  },
  {
   "cell_type": "code",
   "execution_count": 40,
   "metadata": {},
   "outputs": [
    {
     "data": {
      "text/plain": [
       "{'AD_PRES', 'AD_VP', 'FI_ACCOUNT', 'FI_MGR', 'IT_PROG', 'PU_CLERK', 'PU_MAN'}"
      ]
     },
     "execution_count": 40,
     "metadata": {},
     "output_type": "execute_result"
    }
   ],
   "source": [
    "set(map(lambda i : i.split(',')[6] ,emp_list))"
   ]
  },
  {
   "cell_type": "code",
   "execution_count": 43,
   "metadata": {},
   "outputs": [
    {
     "data": {
      "text/plain": [
       "['100,Steven,King,SKING,\"515.123.4567\",2003-06-17,AD_PRES,24000,,,90',\n",
       " '101,Neena,Kochhar,NKOCHHAR,\"515.123.4568\",2005-09-21,AD_VP,17000,,100,90',\n",
       " '102,Lex,De Haan,LDEHAAN,\"515.123.4569\",2001-01-13,AD_VP,17000,,100,90',\n",
       " '108,Nancy,Greenberg,NGREENBE,\"515.124.4569\",2002-08-17,FI_MGR,12008,,101,100',\n",
       " '114,Den,Raphaely,DRAPHEAL,\"515.127.4561\",2002-12-07,PU_MAN,11000,,100,30',\n",
       " '103,Alexander,Hunold,AHUNOLD,\"590.423.4567\",2006-01-03,IT_PROG,9000,,102,60',\n",
       " '109,Daniel,Faviet,DFAVIET,\"515.124.4169\",2002-08-16,FI_ACCOUNT,9000,,108,100',\n",
       " '110,John,Chen,JCHEN,\"515.124.4269\",2005-09-28,FI_ACCOUNT,8200,,108,100',\n",
       " '112,Jose Manuel,Urman,JMURMAN,\"515.124.4469\",2006-03-07,FI_ACCOUNT,7800,,108,100',\n",
       " '111,Ismael,Sciarra,ISCIARRA,\"515.124.4369\",2005-09-30,FI_ACCOUNT,7700,,108,100',\n",
       " '113,Luis,Popp,LPOPP,\"515.124.4567\",2007-12-07,FI_ACCOUNT,6900,,108,100',\n",
       " '104,Bruce,Ernst,BERNST,\"590.423.4568\",2007-05-21,IT_PROG,6000,,103,60',\n",
       " '105,David,Austin,DAUSTIN,\"590.423.4569\",2005-06-25,IT_PROG,4800,,103,60',\n",
       " '106,Valli,Pataballa,VPATABAL,\"590.423.4560\",2006-02-05,IT_PROG,4800,,103,60',\n",
       " '107,Diana,Lorentz,DLORENTZ,\"590.423.5567\",2007-02-07,IT_PROG,4200,,103,60',\n",
       " '115,Alexander,Khoo,AKHOO,\"515.127.4562\",2003-05-18,PU_CLERK,3100,,114,30',\n",
       " '116,Shelli,Baida,SBAIDA,\"515.127.4563\",2005-12-24,PU_CLERK,2900,,114,30',\n",
       " '117,Sigal,Tobias,STOBIAS,\"515.127.4564\",2005-07-24,PU_CLERK,2800,,114,30',\n",
       " '118,Guy,Himuro,GHIMURO,\"515.127.4565\",2006-11-15,PU_CLERK,2600,,114,30']"
      ]
     },
     "execution_count": 43,
     "metadata": {},
     "output_type": "execute_result"
    }
   ],
   "source": [
    "emp_sort=sorted(emp_list,key= lambda i : int (i.split(',')[7]),reverse=True)\n",
    "emp_sort"
   ]
  },
  {
   "cell_type": "code",
   "execution_count": 50,
   "metadata": {},
   "outputs": [],
   "source": [
    "import json\n",
    "\n"
   ]
  },
  {
   "cell_type": "code",
   "execution_count": 63,
   "metadata": {},
   "outputs": [],
   "source": [
    "d=json.load(open('D:\\CODES\\FlatFiles\\emp_csv\\\\nested.json','r'))"
   ]
  },
  {
   "cell_type": "code",
   "execution_count": 65,
   "metadata": {},
   "outputs": [
    {
     "data": {
      "text/plain": [
       "{'coffee': {'region': [{'id': 1, 'name': 'John Doe'},\n",
       "   {'id': 2, 'name': 'Don Joeh'}],\n",
       "  'country': {'id': 2, 'company': 'ACME'}},\n",
       " 'brewing': {'region': [{'id': 1, 'name': 'John Doe'},\n",
       "   {'id': 2, 'name': 'Don Joeh'}],\n",
       "  'country': {'id': 2, 'company': 'ACME'}}}"
      ]
     },
     "execution_count": 65,
     "metadata": {},
     "output_type": "execute_result"
    }
   ],
   "source": [
    "d"
   ]
  },
  {
   "cell_type": "code",
   "execution_count": 84,
   "metadata": {},
   "outputs": [
    {
     "data": {
      "text/plain": [
       "dict_keys(['region', 'country'])"
      ]
     },
     "execution_count": 84,
     "metadata": {},
     "output_type": "execute_result"
    }
   ],
   "source": [
    "cof=d['coffee']\n",
    "cof.keys()"
   ]
  },
  {
   "cell_type": "code",
   "execution_count": 83,
   "metadata": {},
   "outputs": [
    {
     "data": {
      "text/plain": [
       "dict"
      ]
     },
     "execution_count": 83,
     "metadata": {},
     "output_type": "execute_result"
    }
   ],
   "source": [
    "type(cof)"
   ]
  },
  {
   "cell_type": "code",
   "execution_count": 85,
   "metadata": {},
   "outputs": [
    {
     "data": {
      "text/plain": [
       "[{'id': 1, 'name': 'John Doe'}, {'id': 2, 'name': 'Don Joeh'}]"
      ]
     },
     "execution_count": 85,
     "metadata": {},
     "output_type": "execute_result"
    }
   ],
   "source": [
    "regions=d['coffee']['region']\n",
    "regions"
   ]
  },
  {
   "cell_type": "code",
   "execution_count": 86,
   "metadata": {},
   "outputs": [
    {
     "data": {
      "text/plain": [
       "list"
      ]
     },
     "execution_count": 86,
     "metadata": {},
     "output_type": "execute_result"
    }
   ],
   "source": [
    "type(regions)"
   ]
  },
  {
   "cell_type": "code",
   "execution_count": 88,
   "metadata": {},
   "outputs": [
    {
     "data": {
      "text/plain": [
       "[1, 2]"
      ]
     },
     "execution_count": 88,
     "metadata": {},
     "output_type": "execute_result"
    }
   ],
   "source": [
    "[i['id'] for i in regions]"
   ]
  },
  {
   "cell_type": "code",
   "execution_count": 91,
   "metadata": {},
   "outputs": [
    {
     "data": {
      "text/plain": [
       "[1, 2]"
      ]
     },
     "execution_count": 91,
     "metadata": {},
     "output_type": "execute_result"
    }
   ],
   "source": [
    "list(map(lambda i : i['id'],regions))"
   ]
  }
 ],
 "metadata": {
  "kernelspec": {
   "display_name": "Python 3",
   "language": "python",
   "name": "python3"
  },
  "language_info": {
   "codemirror_mode": {
    "name": "ipython",
    "version": 3
   },
   "file_extension": ".py",
   "mimetype": "text/x-python",
   "name": "python",
   "nbconvert_exporter": "python",
   "pygments_lexer": "ipython3",
   "version": "3.11.8"
  }
 },
 "nbformat": 4,
 "nbformat_minor": 2
}
