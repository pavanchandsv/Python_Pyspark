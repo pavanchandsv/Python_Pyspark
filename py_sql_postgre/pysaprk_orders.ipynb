{
 "cells": [
  {
   "cell_type": "code",
   "execution_count": 1,
   "metadata": {},
   "outputs": [],
   "source": [
    "from pyspark.sql import SparkSession"
   ]
  },
  {
   "cell_type": "code",
   "execution_count": 2,
   "metadata": {},
   "outputs": [],
   "source": [
    "spark=SparkSession.builder.appName('Join').getOrCreate()"
   ]
  },
  {
   "cell_type": "code",
   "execution_count": 3,
   "metadata": {},
   "outputs": [
    {
     "data": {
      "text/html": [
       "\n",
       "            <div>\n",
       "                <p><b>SparkSession - in-memory</b></p>\n",
       "                \n",
       "        <div>\n",
       "            <p><b>SparkContext</b></p>\n",
       "\n",
       "            <p><a href=\"http://192.168.0.126:4040\">Spark UI</a></p>\n",
       "\n",
       "            <dl>\n",
       "              <dt>Version</dt>\n",
       "                <dd><code>v3.5.1</code></dd>\n",
       "              <dt>Master</dt>\n",
       "                <dd><code>local[*]</code></dd>\n",
       "              <dt>AppName</dt>\n",
       "                <dd><code>Join</code></dd>\n",
       "            </dl>\n",
       "        </div>\n",
       "        \n",
       "            </div>\n",
       "        "
      ],
      "text/plain": [
       "<pyspark.sql.session.SparkSession at 0x26cd60017d0>"
      ]
     },
     "execution_count": 3,
     "metadata": {},
     "output_type": "execute_result"
    }
   ],
   "source": [
    "spark"
   ]
  },
  {
   "cell_type": "code",
   "execution_count": 23,
   "metadata": {},
   "outputs": [],
   "source": [
    "customer=spark.read.csv(r'C:\\Users\\pavan\\OneDrive\\Documents\\My Tableau Repository\\tableau_tutorial\\EU-Training-Datasets\\EU-Training-Datasets\\EU Training Datasets\\TableauProject-SalesDashboard\\Customers.csv',sep=';',inferSchema=True,header=True)"
   ]
  },
  {
   "cell_type": "code",
   "execution_count": 24,
   "metadata": {},
   "outputs": [
    {
     "name": "stdout",
     "output_type": "stream",
     "text": [
      "+-----------+--------------------+\n",
      "|Customer ID|       Customer Name|\n",
      "+-----------+--------------------+\n",
      "|   AA-10315|          Alex Avila|\n",
      "|   AA-10375|        Allen Armold|\n",
      "|   AA-10480|        Andrew Allen|\n",
      "|   AA-10645|       Anna Andreadi|\n",
      "|   AB-10015|       Aaron Bergman|\n",
      "|   AB-10060|     Adam Bellavance|\n",
      "|   AB-10105|       Adrian Barton|\n",
      "|   AB-10150|         Aimee Bixby|\n",
      "|   AB-10165|         Alan Barnes|\n",
      "|   AB-10255|Alejandro Ballentine|\n",
      "|   AB-10600|           Ann Blume|\n",
      "|   AC-10420|       Alyssa Crouse|\n",
      "|   AC-10450|             Amy Cox|\n",
      "|   AC-10615|           Ann Chong|\n",
      "|   AC-10660|          Anna Chung|\n",
      "|   AD-10180|      Alan Dominguez|\n",
      "|   AF-10870|        Art Ferguson|\n",
      "|   AF-10885|          Art Foster|\n",
      "|   AG-10270|     Alejandro Grove|\n",
      "|   AG-10300| Aleksandra Gannaway|\n",
      "+-----------+--------------------+\n",
      "only showing top 20 rows\n",
      "\n"
     ]
    }
   ],
   "source": [
    "customer.show()"
   ]
  },
  {
   "cell_type": "code",
   "execution_count": 25,
   "metadata": {},
   "outputs": [],
   "source": [
    "orders=spark.read.csv(r\"C:\\Users\\pavan\\OneDrive\\Documents\\My Tableau Repository\\tableau_tutorial\\EU-Training-Datasets\\EU-Training-Datasets\\EU Training Datasets\\TableauProject-SalesDashboard\\Orders.csv\",sep=';',inferSchema=True,header=True)"
   ]
  },
  {
   "cell_type": "code",
   "execution_count": 32,
   "metadata": {},
   "outputs": [
    {
     "name": "stdout",
     "output_type": "stream",
     "text": [
      "root\n",
      " |-- Row ID: integer (nullable = true)\n",
      " |-- Order ID: string (nullable = true)\n",
      " |-- Order Date: string (nullable = true)\n",
      " |-- Ship Date: string (nullable = true)\n",
      " |-- Ship Mode: string (nullable = true)\n",
      " |-- Customer ID: string (nullable = true)\n",
      " |-- Segment: string (nullable = true)\n",
      " |-- Postal Code: integer (nullable = true)\n",
      " |-- Product ID: string (nullable = true)\n",
      " |-- Sales: integer (nullable = true)\n",
      " |-- Quantity: integer (nullable = true)\n",
      " |-- Discount: double (nullable = true)\n",
      " |-- Profit: integer (nullable = true)\n",
      "\n"
     ]
    }
   ],
   "source": [
    "orders.printSchema()"
   ]
  },
  {
   "cell_type": "code",
   "execution_count": 45,
   "metadata": {},
   "outputs": [
    {
     "name": "stdout",
     "output_type": "stream",
     "text": [
      "+-----------+--------------+----------+\n",
      "|    Segment|     Ship Mode|min(Sales)|\n",
      "+-----------+--------------+----------+\n",
      "|  Corporate|  Second Class|        26|\n",
      "|   Consumer|      Same Day|        29|\n",
      "|  Corporate|      Same Day|       158|\n",
      "|   Consumer|  Second Class|         6|\n",
      "|Home Office|   First Class|        30|\n",
      "|Home Office|Standard Class|         3|\n",
      "|  Corporate|   First Class|        15|\n",
      "|Home Office|      Same Day|        78|\n",
      "|   Consumer|Standard Class|         3|\n",
      "|   Consumer|   First Class|         6|\n",
      "|Home Office|  Second Class|         5|\n",
      "|  Corporate|Standard Class|         8|\n",
      "+-----------+--------------+----------+\n",
      "\n"
     ]
    }
   ],
   "source": [
    "orders.groupBy('Segment','Ship Mode').min('Sales').show()"
   ]
  },
  {
   "cell_type": "code",
   "execution_count": 79,
   "metadata": {},
   "outputs": [],
   "source": [
    "df=orders.join(customer,'Customer ID',how='outer')\n",
    "#sort('Sales').show()"
   ]
  },
  {
   "cell_type": "code",
   "execution_count": 91,
   "metadata": {},
   "outputs": [
    {
     "name": "stdout",
     "output_type": "stream",
     "text": [
      "+-----------+------+--------------+----------+----------+--------------+-----------+-----------+---------------+-------+--------+--------+-------+------------------+\n",
      "|Customer ID|Row ID|      Order ID|Order Date| Ship Date|     Ship Mode|    Segment|Postal Code|     Product ID|  Sales|Quantity|Discount| Profit|     Customer Name|\n",
      "+-----------+------+--------------+----------+----------+--------------+-----------+-----------+---------------+-------+--------+--------+-------+------------------+\n",
      "|   DK-12835|  1430|US-2021-164448|31/10/2021| 4/11/2021|  Second Class|  Corporate|      93905|OFF-LA-10003510|  42742|      14|     0.0|1966132|   Damala Kotsonis|\n",
      "|   JM-15250|  8075|CA-2023-151750|  1/1/2023|  5/1/2023|Standard Class|   Consumer|      77340|OFF-BI-10000343|  13748|      14|     0.8|-226842|      Janet Martin|\n",
      "|   DL-13315|  9516|CA-2020-154165|17/02/2020|24/02/2020|Standard Class|   Consumer|      60653|OFF-AR-10003631|  54208|      14|     0.2|  88088| Delfina Latchford|\n",
      "|   AB-10600|  1364|US-2023-155425|10/11/2023|11/11/2023|   First Class|  Corporate|      85705|OFF-BI-10001036|  38388|      14|     0.7| -25592|         Ann Blume|\n",
      "|   AG-10495|  5647|CA-2021-104241|  4/1/2021|  9/1/2021|Standard Class|  Corporate|      22304|FUR-FU-10001473|  19222|      14|     0.0| 691992|   Andrew Gjertsen|\n",
      "|   AP-10720|  9980|US-2022-103674| 6/12/2022|10/12/2022|Standard Class|Home Office|      90032|OFF-BI-10002026| 437472|      14|     0.2|1531152|        Anne Pryor|\n",
      "|   BP-11185|  8936|CA-2023-130036|27/08/2023|27/08/2023|      Same Day|  Corporate|      19120|TEC-AC-10001908|1119888|      14|     0.2| 209979|      Ben Peterman|\n",
      "|   BW-11200|  9533|CA-2022-116596|27/10/2022|31/10/2022|Standard Class|   Consumer|      10011|FUR-CH-10000553| 427644|      14|     0.1| 807772|       Ben Wallace|\n",
      "|   CB-12025|   661|CA-2021-146563|24/08/2021|28/08/2021|Standard Class|   Consumer|      76017|OFF-ST-10001511|  72408|      14|     0.2|-135765| Cassandra Brandow|\n",
      "|   CC-12220|  5386|CA-2023-161410|26/06/2023|  3/7/2023|Standard Class|   Consumer|      19143|TEC-PH-10000673| 545916|      14|     0.4| 727888|      Chris Cortes|\n",
      "|   CS-12400|  3903|US-2021-119312| 2/10/2021| 7/10/2021|  Second Class|Home Office|      90045|OFF-ST-10000943|  27034|      14|     0.0| 756952|Christopher Schild|\n",
      "|   AG-10270|  7388|CA-2022-105732|13/09/2022|18/09/2022|Standard Class|   Consumer|      68104|FUR-FU-10003664| 133644|      14|     0.0|3875676|   Alejandro Grove|\n",
      "|   GW-14605|  6629|CA-2021-135489|19/09/2021|22/09/2021|  Second Class|   Consumer|      10024|TEC-PH-10000011|  27986|      14|     0.0|1343328|  Giulietta Weimer|\n",
      "|   IM-15070|  1434|CA-2020-120768|19/12/2020|21/12/2020|  Second Class|   Consumer|      35630|FUR-CH-10000513| 181986|      14|     0.0|1637874|      Irene Maddox|\n",
      "|   JK-15205|  1712|CA-2023-123491|30/10/2023| 5/11/2023|Standard Class|   Consumer|      94122|OFF-AP-10002684| 170212|      14|     0.0| 510636|      Jamie Kunitz|\n",
      "|   JL-15835|  9942|CA-2023-164028|24/11/2023|30/11/2023|Standard Class|   Consumer|      94122|TEC-AC-10001772|  22358|      14|     0.0| 871962|          John Lee|\n",
      "|   JW-16075|  6489|CA-2021-120621|21/03/2021|26/03/2021|Standard Class|   Consumer|      28540|OFF-PA-10002254| 295456|      14|     0.2| 960232|        Julia West|\n",
      "|   KA-16525|  3442|CA-2020-158337| 11/3/2020|14/03/2020|  Second Class|   Consumer|      10024|OFF-PA-10002137|  10892|      14|     0.0|  49014|    Kelly Andreada|\n",
      "|   KN-16450|  2794|CA-2020-154599| 12/4/2020|17/04/2020|Standard Class|  Corporate|      90278|TEC-PH-10001557|1075088|      14|     0.2| 940702|       Kean Nguyen|\n",
      "|   LC-16885|   140|CA-2022-145583|13/10/2022|19/10/2022|Standard Class|   Consumer|      95661|FUR-FU-10001706|   4312|      14|     0.0| 206976|    Lena Creighton|\n",
      "+-----------+------+--------------+----------+----------+--------------+-----------+-----------+---------------+-------+--------+--------+-------+------------------+\n",
      "only showing top 20 rows\n",
      "\n"
     ]
    }
   ],
   "source": [
    "df.sort('Quantity',ascending=False).show()"
   ]
  },
  {
   "cell_type": "code",
   "execution_count": 101,
   "metadata": {},
   "outputs": [],
   "source": [
    "from pyspark.sql.functions import lit"
   ]
  },
  {
   "cell_type": "code",
   "execution_count": 88,
   "metadata": {},
   "outputs": [],
   "source": [
    "from pyspark.sql.functions import max"
   ]
  },
  {
   "cell_type": "code",
   "execution_count": 98,
   "metadata": {},
   "outputs": [],
   "source": [
    "max_q=df.agg(max('Quantity')).collect()[0][0]"
   ]
  },
  {
   "cell_type": "code",
   "execution_count": 107,
   "metadata": {},
   "outputs": [],
   "source": [
    "df1=df"
   ]
  },
  {
   "cell_type": "code",
   "execution_count": 109,
   "metadata": {},
   "outputs": [],
   "source": [
    "df1=df1.withColumn('Max',lit(max_q))"
   ]
  },
  {
   "cell_type": "code",
   "execution_count": 131,
   "metadata": {},
   "outputs": [
    {
     "name": "stdout",
     "output_type": "stream",
     "text": [
      "+-----------+------+--------------+----------+---------+------------+--------+-----------+---------------+--------+--------+--------+--------+-------------+\n",
      "|Customer ID|Row ID|      Order ID|Order Date|Ship Date|   Ship Mode| Segment|Postal Code|     Product ID|   Sales|Quantity|Discount|  Profit|Customer Name|\n",
      "+-----------+------+--------------+----------+---------+------------+--------+-----------+---------------+--------+--------+--------+--------+-------------+\n",
      "|   AG-10675|   400|CA-2022-108987|  8/9/2022|10/9/2022|Second Class|Consumer|      77036|FUR-BO-10004834|23962656|       4|    0.32|-3171528|  Anna Gayman|\n",
      "+-----------+------+--------------+----------+---------+------------+--------+-----------+---------------+--------+--------+--------+--------+-------------+\n",
      "\n"
     ]
    }
   ],
   "source": [
    "df.filter(df.Sales >= 23962656).show()"
   ]
  },
  {
   "cell_type": "code",
   "execution_count": 111,
   "metadata": {},
   "outputs": [
    {
     "name": "stdout",
     "output_type": "stream",
     "text": [
      "+-----------+------+--------------+----------+----------+--------------+--------+-----------+---------------+-------+--------+--------+--------+-------------+\n",
      "|Customer ID|Row ID|      Order ID|Order Date| Ship Date|     Ship Mode| Segment|Postal Code|     Product ID|  Sales|Quantity|Discount|  Profit|Customer Name|\n",
      "+-----------+------+--------------+----------+----------+--------------+--------+-----------+---------------+-------+--------+--------+--------+-------------+\n",
      "|   AA-10315|  1160|CA-2023-147039|29/06/2023|  4/7/2023|Standard Class|Consumer|      55407|OFF-AP-10000576|  36294|       3|     0.0|   90735|   Alex Avila|\n",
      "|   AA-10315|  1161|CA-2023-147039|29/06/2023|  4/7/2023|Standard Class|Consumer|      55407|OFF-BI-10004654|   1154|       2|     0.0|     577|   Alex Avila|\n",
      "|   AA-10315|  1300|CA-2021-121391| 4/10/2021| 7/10/2021|   First Class|Consumer|      94109|OFF-ST-10001590|   2696|       2|     0.0|   70096|   Alex Avila|\n",
      "|   AA-10315|  2230|CA-2020-128055|31/03/2020|  5/4/2020|Standard Class|Consumer|      94122|OFF-BI-10004390| 673568|       2|     0.2|  252588|   Alex Avila|\n",
      "|   AA-10315|  2231|CA-2020-128055|31/03/2020|  5/4/2020|Standard Class|Consumer|      94122|OFF-AP-10002765|   5298|       2|     0.0|  148344|   Alex Avila|\n",
      "|   AA-10315|  5199|CA-2022-103982|  3/3/2022|  8/3/2022|Standard Class|Consumer|      78664|OFF-SU-10000151|3930072|       3|     0.2|-7860144|   Alex Avila|\n",
      "|   AA-10315|  5200|CA-2022-103982|  3/3/2022|  8/3/2022|Standard Class|Consumer|      78664|OFF-FA-10001332|   2304|       1|     0.2|    7776|   Alex Avila|\n",
      "|   AA-10315|  5201|CA-2022-103982|  3/3/2022|  8/3/2022|Standard Class|Consumer|      78664|TEC-PH-10000895| 431976|       3|     0.2|  323982|   Alex Avila|\n",
      "|   AA-10315|  5202|CA-2022-103982|  3/3/2022|  8/3/2022|Standard Class|Consumer|      78664|TEC-AC-10002857|   4172|       7|     0.2|   57365|   Alex Avila|\n",
      "|   AA-10315|  7469|CA-2020-138100|15/09/2020|20/09/2020|Standard Class|Consumer|      10011|OFF-PA-10000349|   1494|       3|     0.0|   70218|   Alex Avila|\n",
      "|   AA-10315|  7470|CA-2020-138100|15/09/2020|20/09/2020|Standard Class|Consumer|      10011|FUR-FU-10002456|   1456|       2|     0.0|   62608|   Alex Avila|\n",
      "|   AA-10375|   536|CA-2022-126613| 10/7/2022|16/07/2022|Standard Class|Consumer|      85204|OFF-ST-10001325|  16768|       2|     0.2|   14672| Allen Armold|\n",
      "|   AA-10375|   808|CA-2021-140921|  3/2/2021|  5/2/2021|   First Class|Consumer|      68104|FUR-FU-10003347|    284|       2|     0.0|   11076| Allen Armold|\n",
      "|   AA-10375|   809|CA-2021-140921|  3/2/2021|  5/2/2021|   First Class|Consumer|      68104|TEC-AC-10004901|  14997|       3|     0.0|  509898| Allen Armold|\n",
      "|   AA-10375|  1173|CA-2020-158064|21/04/2020|25/04/2020|Standard Class|Consumer|      90008|OFF-BI-10002976|   1652|       5|     0.2|   55755| Allen Armold|\n",
      "|   AA-10375|  1979|CA-2021-109939|  8/5/2021| 12/5/2021|Standard Class|Consumer|      97301|OFF-AR-10000127|   5248|       2|     0.2|    5904| Allen Armold|\n",
      "|   AA-10375|  2264|CA-2022-131065|14/11/2022|16/11/2022|  Second Class|Consumer|      30318|TEC-AC-10004145|  49998|       2|     0.0| 1149954| Allen Armold|\n",
      "|   AA-10375|  2265|CA-2022-131065|14/11/2022|16/11/2022|  Second Class|Consumer|      30318|OFF-PA-10002479|    528|       1|     0.0|    2376| Allen Armold|\n",
      "|   AA-10375|  2266|CA-2022-131065|14/11/2022|16/11/2022|  Second Class|Consumer|      30318|OFF-BI-10004970|    826|       2|     0.0|   38822| Allen Armold|\n",
      "|   AA-10375|  3008|CA-2020-130729|24/10/2020|29/10/2020|Standard Class|Consumer|      91730|OFF-BI-10002706|  34272|       3|     0.2|  111384| Allen Armold|\n",
      "+-----------+------+--------------+----------+----------+--------------+--------+-----------+---------------+-------+--------+--------+--------+-------------+\n",
      "only showing top 20 rows\n",
      "\n"
     ]
    }
   ],
   "source": [
    "df.show()"
   ]
  },
  {
   "cell_type": "code",
   "execution_count": 113,
   "metadata": {},
   "outputs": [],
   "source": [
    "count_customers=df.groupBy('Customer ID').count().sort('count')"
   ]
  },
  {
   "cell_type": "code",
   "execution_count": 136,
   "metadata": {},
   "outputs": [],
   "source": [
    "count_customers=count_customers.withColumnRenamed('count','count_orders')"
   ]
  },
  {
   "cell_type": "code",
   "execution_count": 137,
   "metadata": {},
   "outputs": [
    {
     "name": "stdout",
     "output_type": "stream",
     "text": [
      "root\n",
      " |-- Customer ID: string (nullable = true)\n",
      " |-- count_orders: long (nullable = false)\n",
      "\n"
     ]
    }
   ],
   "source": [
    "count_customers.printSchema()"
   ]
  },
  {
   "cell_type": "code",
   "execution_count": null,
   "metadata": {},
   "outputs": [],
   "source": [
    "df.filer"
   ]
  },
  {
   "cell_type": "code",
   "execution_count": 140,
   "metadata": {},
   "outputs": [
    {
     "name": "stdout",
     "output_type": "stream",
     "text": [
      "+-----------+------------+\n",
      "|Customer ID|count_orders|\n",
      "+-----------+------------+\n",
      "|   PB-19210|           2|\n",
      "|   PH-18790|           2|\n",
      "|   BO-11425|           2|\n",
      "|   AR-10570|           2|\n",
      "|   SH-20635|           2|\n",
      "|   NB-18580|           2|\n",
      "|   EL-13735|           2|\n",
      "|   TS-21085|           2|\n",
      "|   RM-19750|           2|\n",
      "|   MG-18205|           2|\n",
      "|   LH-16750|           3|\n",
      "|   JR-15670|           3|\n",
      "|   MW-18235|           3|\n",
      "|   PC-19000|           3|\n",
      "|   PK-18910|           3|\n",
      "|   RS-19870|           3|\n",
      "|   FW-14395|           3|\n",
      "|   ML-18265|           3|\n",
      "|   LT-16765|           3|\n",
      "|   RH-19555|           3|\n",
      "+-----------+------------+\n",
      "only showing top 20 rows\n",
      "\n"
     ]
    }
   ],
   "source": [
    "count_customers.filter(count_customers.count_orders > 1).show()"
   ]
  },
  {
   "cell_type": "code",
   "execution_count": 158,
   "metadata": {},
   "outputs": [
    {
     "name": "stdout",
     "output_type": "stream",
     "text": [
      "+-----------------+\n",
      "|min(count_orders)|\n",
      "+-----------------+\n",
      "|                1|\n",
      "+-----------------+\n",
      "\n"
     ]
    }
   ],
   "source": [
    "count_customers.agg( {'count_orders' : 'max','count_orders' : 'min'} ).show()"
   ]
  },
  {
   "cell_type": "code",
   "execution_count": 159,
   "metadata": {},
   "outputs": [],
   "source": [
    "from pyspark.sql import functions as F"
   ]
  },
  {
   "cell_type": "code",
   "execution_count": 168,
   "metadata": {},
   "outputs": [
    {
     "name": "stdout",
     "output_type": "stream",
     "text": [
      "+-----------------+-----------------+\n",
      "|min(count_orders)|max(count_orders)|\n",
      "+-----------------+-----------------+\n",
      "|                1|               37|\n",
      "+-----------------+-----------------+\n",
      "\n"
     ]
    }
   ],
   "source": [
    "count_customers.agg( F.min(count_customers.count_orders),F.max(count_customers.count_orders) ).show()"
   ]
  },
  {
   "cell_type": "code",
   "execution_count": 170,
   "metadata": {},
   "outputs": [],
   "source": [
    "m_c=count_customers.agg( F.min(count_customers.count_orders),F.max(count_customers.count_orders) )"
   ]
  },
  {
   "cell_type": "code",
   "execution_count": 172,
   "metadata": {},
   "outputs": [
    {
     "data": {
      "text/plain": [
       "37"
      ]
     },
     "execution_count": 172,
     "metadata": {},
     "output_type": "execute_result"
    }
   ],
   "source": [
    "m_c.collect()[0][1]"
   ]
  }
 ],
 "metadata": {
  "kernelspec": {
   "display_name": "Python 3",
   "language": "python",
   "name": "python3"
  },
  "language_info": {
   "codemirror_mode": {
    "name": "ipython",
    "version": 3
   },
   "file_extension": ".py",
   "mimetype": "text/x-python",
   "name": "python",
   "nbconvert_exporter": "python",
   "pygments_lexer": "ipython3",
   "version": "3.11.9"
  }
 },
 "nbformat": 4,
 "nbformat_minor": 2
}
